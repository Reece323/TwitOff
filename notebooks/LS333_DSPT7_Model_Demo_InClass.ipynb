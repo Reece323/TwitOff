{
 "cells": [
  {
   "cell_type": "markdown",
   "metadata": {},
   "source": [
    "### DSPT6 - Adding Data Science to a Web Application\n",
    "\n",
    "The purpose of this notebook is to demonstrate:\n",
    "- Simple online analysis of data from a user of the Twitoff app or an API\n",
    "- Train a more complicated offline model, and serialize the results for online use"
   ]
  },
  {
   "cell_type": "code",
   "execution_count": 16,
   "metadata": {},
   "outputs": [],
   "source": [
    "import sqlite3\n",
    "import pickle\n",
    "import pandas as pd"
   ]
  },
  {
   "cell_type": "code",
   "execution_count": 17,
   "metadata": {},
   "outputs": [],
   "source": [
    "# Connect to sqlite database\n",
    "conn = sqlite3.connect('/Users/codyreece/Desktop/Repos/TwitOff/twitoff/twitoff.db')"
   ]
  },
  {
   "cell_type": "code",
   "execution_count": 18,
   "metadata": {
    "colab": {},
    "colab_type": "code",
    "id": "vS_A9hjG1HGD"
   },
   "outputs": [],
   "source": [
    "def get_data(query, conn):\n",
    "    '''Function to get data from SQLite DB'''\n",
    "    \n",
    "    cursor = conn.cursor()\n",
    "    result = cursor.execute(query).fetchall()\n",
    "\n",
    "    # Get columns from cursor object\n",
    "    columns = list(map(lambda x: x[0], cursor.description))\n",
    "\n",
    "    # Assign to DataFrame\n",
    "    df = pd.DataFrame(data=result, columns=columns)\n",
    "    return df"
   ]
  },
  {
   "cell_type": "code",
   "execution_count": 8,
   "metadata": {
    "colab": {},
    "colab_type": "code",
    "id": "pVapHGy7gEFx",
    "tags": []
   },
   "outputs": [
    {
     "output_type": "stream",
     "name": "stdout",
     "text": [
      "(663, 5)\n"
     ]
    },
    {
     "output_type": "execute_result",
     "data": {
      "text/plain": [
       "                      id                                              tweet  \\\n",
       "145  1133366998874804224  MacKenzie is going to be amazing and thoughtfu...   \n",
       "2     743804334396170240  Look for one-chute-out test starting about 7 m...   \n",
       "199  1204964350936731649  Picture perfect flight @BlueOrigin. And this v...   \n",
       "73    915046109298520064  Amazon plane packed with donation of critical ...   \n",
       "575  1312883193939279872  It’s time we build an economy where everyone g...   \n",
       "225  1219093283265138688  Hey, India. We’re rolling out our new fleet of...   \n",
       "622  1313464290280534017  There’s no better person to convey what’s at s...   \n",
       "350  1308123412846567426  I’m proud to endorse @Bradshaw2020's grassroot...   \n",
       "179  1196923893065359365  In Abu Dhabi this week, the world committed $2...   \n",
       "41    838748139964272640  1st BE-4 engine fully assembled. 2nd and 3rd f...   \n",
       "\n",
       "                                             embedding       username  \\\n",
       "145  b'\\x80\\x05\\x95\\xee\\x11\\x00\\x00\\x00\\x00\\x00\\x00...      JeffBezos   \n",
       "2    b'\\x80\\x05\\x95\\xee\\x11\\x00\\x00\\x00\\x00\\x00\\x00...      JeffBezos   \n",
       "199  b'\\x80\\x05\\x95\\xee\\x11\\x00\\x00\\x00\\x00\\x00\\x00...      JeffBezos   \n",
       "73   b'\\x80\\x05\\x95\\xee\\x11\\x00\\x00\\x00\\x00\\x00\\x00...      JeffBezos   \n",
       "575  b'\\x80\\x05\\x95\\xee\\x11\\x00\\x00\\x00\\x00\\x00\\x00...       JoeBiden   \n",
       "225  b'\\x80\\x05\\x95\\xee\\x11\\x00\\x00\\x00\\x00\\x00\\x00...      JeffBezos   \n",
       "622  b'\\x80\\x05\\x95\\xee\\x11\\x00\\x00\\x00\\x00\\x00\\x00...       JoeBiden   \n",
       "350  b'\\x80\\x05\\x95\\xee\\x11\\x00\\x00\\x00\\x00\\x00\\x00...  BernieSanders   \n",
       "179  b'\\x80\\x05\\x95\\xee\\x11\\x00\\x00\\x00\\x00\\x00\\x00...      BillGates   \n",
       "41   b'\\x80\\x05\\x95\\xee\\x11\\x00\\x00\\x00\\x00\\x00\\x00...      JeffBezos   \n",
       "\n",
       "                                     embedding_decoded  \n",
       "145  [-0.08970084, 0.20976648, -0.19089942, -0.0673...  \n",
       "2    [-0.050928, 0.13946757, -0.067821085, 0.062432...  \n",
       "199  [0.019206014, 0.114930496, -0.077709906, -0.09...  \n",
       "73   [0.00032032834, 0.1259034, -0.06100049, -0.052...  \n",
       "575  [-0.0745718, 0.21935098, -0.09190432, -0.01092...  \n",
       "225  [0.031138683, 0.23864304, 0.007979002, -0.2018...  \n",
       "622  [-0.030412894, 0.26141876, -0.100480415, 0.009...  \n",
       "350  [-0.028717875, 0.13898844, -0.08603855, -0.017...  \n",
       "179  [-0.056705132, 0.22735384, -0.021146351, -0.02...  \n",
       "41   [0.03654325, 0.073873684, -0.04710921, 0.03106...  "
      ],
      "text/html": "<div>\n<style scoped>\n    .dataframe tbody tr th:only-of-type {\n        vertical-align: middle;\n    }\n\n    .dataframe tbody tr th {\n        vertical-align: top;\n    }\n\n    .dataframe thead th {\n        text-align: right;\n    }\n</style>\n<table border=\"1\" class=\"dataframe\">\n  <thead>\n    <tr style=\"text-align: right;\">\n      <th></th>\n      <th>id</th>\n      <th>tweet</th>\n      <th>embedding</th>\n      <th>username</th>\n      <th>embedding_decoded</th>\n    </tr>\n  </thead>\n  <tbody>\n    <tr>\n      <th>145</th>\n      <td>1133366998874804224</td>\n      <td>MacKenzie is going to be amazing and thoughtfu...</td>\n      <td>b'\\x80\\x05\\x95\\xee\\x11\\x00\\x00\\x00\\x00\\x00\\x00...</td>\n      <td>JeffBezos</td>\n      <td>[-0.08970084, 0.20976648, -0.19089942, -0.0673...</td>\n    </tr>\n    <tr>\n      <th>2</th>\n      <td>743804334396170240</td>\n      <td>Look for one-chute-out test starting about 7 m...</td>\n      <td>b'\\x80\\x05\\x95\\xee\\x11\\x00\\x00\\x00\\x00\\x00\\x00...</td>\n      <td>JeffBezos</td>\n      <td>[-0.050928, 0.13946757, -0.067821085, 0.062432...</td>\n    </tr>\n    <tr>\n      <th>199</th>\n      <td>1204964350936731649</td>\n      <td>Picture perfect flight @BlueOrigin. And this v...</td>\n      <td>b'\\x80\\x05\\x95\\xee\\x11\\x00\\x00\\x00\\x00\\x00\\x00...</td>\n      <td>JeffBezos</td>\n      <td>[0.019206014, 0.114930496, -0.077709906, -0.09...</td>\n    </tr>\n    <tr>\n      <th>73</th>\n      <td>915046109298520064</td>\n      <td>Amazon plane packed with donation of critical ...</td>\n      <td>b'\\x80\\x05\\x95\\xee\\x11\\x00\\x00\\x00\\x00\\x00\\x00...</td>\n      <td>JeffBezos</td>\n      <td>[0.00032032834, 0.1259034, -0.06100049, -0.052...</td>\n    </tr>\n    <tr>\n      <th>575</th>\n      <td>1312883193939279872</td>\n      <td>It’s time we build an economy where everyone g...</td>\n      <td>b'\\x80\\x05\\x95\\xee\\x11\\x00\\x00\\x00\\x00\\x00\\x00...</td>\n      <td>JoeBiden</td>\n      <td>[-0.0745718, 0.21935098, -0.09190432, -0.01092...</td>\n    </tr>\n    <tr>\n      <th>225</th>\n      <td>1219093283265138688</td>\n      <td>Hey, India. We’re rolling out our new fleet of...</td>\n      <td>b'\\x80\\x05\\x95\\xee\\x11\\x00\\x00\\x00\\x00\\x00\\x00...</td>\n      <td>JeffBezos</td>\n      <td>[0.031138683, 0.23864304, 0.007979002, -0.2018...</td>\n    </tr>\n    <tr>\n      <th>622</th>\n      <td>1313464290280534017</td>\n      <td>There’s no better person to convey what’s at s...</td>\n      <td>b'\\x80\\x05\\x95\\xee\\x11\\x00\\x00\\x00\\x00\\x00\\x00...</td>\n      <td>JoeBiden</td>\n      <td>[-0.030412894, 0.26141876, -0.100480415, 0.009...</td>\n    </tr>\n    <tr>\n      <th>350</th>\n      <td>1308123412846567426</td>\n      <td>I’m proud to endorse @Bradshaw2020's grassroot...</td>\n      <td>b'\\x80\\x05\\x95\\xee\\x11\\x00\\x00\\x00\\x00\\x00\\x00...</td>\n      <td>BernieSanders</td>\n      <td>[-0.028717875, 0.13898844, -0.08603855, -0.017...</td>\n    </tr>\n    <tr>\n      <th>179</th>\n      <td>1196923893065359365</td>\n      <td>In Abu Dhabi this week, the world committed $2...</td>\n      <td>b'\\x80\\x05\\x95\\xee\\x11\\x00\\x00\\x00\\x00\\x00\\x00...</td>\n      <td>BillGates</td>\n      <td>[-0.056705132, 0.22735384, -0.021146351, -0.02...</td>\n    </tr>\n    <tr>\n      <th>41</th>\n      <td>838748139964272640</td>\n      <td>1st BE-4 engine fully assembled. 2nd and 3rd f...</td>\n      <td>b'\\x80\\x05\\x95\\xee\\x11\\x00\\x00\\x00\\x00\\x00\\x00...</td>\n      <td>JeffBezos</td>\n      <td>[0.03654325, 0.073873684, -0.04710921, 0.03106...</td>\n    </tr>\n  </tbody>\n</table>\n</div>"
     },
     "metadata": {},
     "execution_count": 8
    }
   ],
   "source": [
    "import pickle\n",
    "\n",
    "sql = '''\n",
    "SELECT \n",
    "\ttweet.id,\n",
    "\ttweet.tweet, \n",
    "\ttweet.embedding,\n",
    "\tuser.username\n",
    "FROM tweet\n",
    "JOIN user on tweet.user_id = user.id;\n",
    "'''\n",
    "\n",
    "df = get_data(sql, conn)\n",
    "df['embedding_decoded'] = df.embedding.apply(lambda x: pickle.loads(x))\n",
    "print(df.shape)\n",
    "df.sample(10)"
   ]
  },
  {
   "cell_type": "code",
   "execution_count": 19,
   "metadata": {},
   "outputs": [
    {
     "output_type": "execute_result",
     "data": {
      "text/plain": [
       "[-0.133187,\n",
       " 0.45467547,\n",
       " -0.00989832,\n",
       " 0.035551026,\n",
       " -0.07856627,\n",
       " 0.06057265,\n",
       " 0.2390099,\n",
       " -0.13835788,\n",
       " 0.02841813,\n",
       " 1.547836,\n",
       " -0.21632695,\n",
       " -0.06464427,\n",
       " 0.04452059,\n",
       " -0.15252791,\n",
       " -0.011007457,\n",
       " 0.09562895,\n",
       " -0.21098231,\n",
       " 0.99990594,\n",
       " -0.1083419,\n",
       " -0.07252909,\n",
       " -0.065781996,\n",
       " -0.028986452,\n",
       " 0.06241819,\n",
       " 0.02831427,\n",
       " 0.1913434,\n",
       " 0.24747568,\n",
       " -0.14590196,\n",
       " -0.03830232,\n",
       " 0.29903308,\n",
       " 0.044983845,\n",
       " -0.1344915,\n",
       " -0.083733685,\n",
       " 0.119221896,\n",
       " 0.2510347,\n",
       " -0.17649728,\n",
       " -0.03934854,\n",
       " -0.106419854,\n",
       " 0.18493757,\n",
       " -0.023651324,\n",
       " 0.16044217,\n",
       " -0.11935236,\n",
       " 0.028703189,\n",
       " -0.14876097,\n",
       " 0.17434269,\n",
       " 0.07948204,\n",
       " 0.19779935,\n",
       " -0.018305715,\n",
       " -0.039069906,\n",
       " -0.11172195,\n",
       " -0.03309604,\n",
       " 0.16640818,\n",
       " 0.11913211,\n",
       " -0.1150929,\n",
       " 0.107780606,\n",
       " 0.018172441,\n",
       " 0.050398193,\n",
       " -0.0200027,\n",
       " -0.054078005,\n",
       " -0.054210022,\n",
       " 0.0036655047,\n",
       " -0.019724362,\n",
       " -0.15057597,\n",
       " -0.08332205,\n",
       " 0.13497363,\n",
       " -0.050828278,\n",
       " -0.1909884,\n",
       " 0.09378154,\n",
       " 0.054029357,\n",
       " 0.01386027,\n",
       " 0.19132441,\n",
       " -0.0040262435,\n",
       " -0.17155623,\n",
       " 0.045013133,\n",
       " -0.05928613,\n",
       " 0.17173743,\n",
       " 0.07854065,\n",
       " 0.16105004,\n",
       " 0.013757273,\n",
       " -0.12982084,\n",
       " 0.06986978,\n",
       " 0.04464332,\n",
       " 0.052464966,\n",
       " -0.06342018,\n",
       " 0.020344092,\n",
       " 0.09792714,\n",
       " -0.03934755,\n",
       " 0.07602812,\n",
       " -0.3248956,\n",
       " 0.2343782,\n",
       " 0.03293932,\n",
       " 0.050161995,\n",
       " 0.017810948,\n",
       " -0.034278966,\n",
       " -0.18238018,\n",
       " 0.08826895,\n",
       " -0.038490407,\n",
       " 0.075076796,\n",
       " -0.005239271,\n",
       " 0.054445084,\n",
       " 0.08388246,\n",
       " 0.013534247,\n",
       " -0.07553869,\n",
       " -0.16161673,\n",
       " -0.042723097,\n",
       " -0.0038392802,\n",
       " 0.28368637,\n",
       " 0.13609852,\n",
       " -0.11798604,\n",
       " 0.054984104,\n",
       " 0.09527168,\n",
       " 0.08047313,\n",
       " -0.21983947,\n",
       " 0.12926535,\n",
       " -0.0003631386,\n",
       " 0.17102104,\n",
       " -0.011461025,\n",
       " -0.012855362,\n",
       " -0.11522627,\n",
       " -0.045828637,\n",
       " 0.030771274,\n",
       " 0.10117595,\n",
       " 0.031235822,\n",
       " -0.12222696,\n",
       " -0.09301431,\n",
       " 0.008120462,\n",
       " -0.1405986,\n",
       " -0.012550884,\n",
       " -0.013501092,\n",
       " -0.0937324,\n",
       " 0.009071955,\n",
       " 0.0365455,\n",
       " -0.1561204,\n",
       " -0.08809251,\n",
       " -0.10951126,\n",
       " -0.035084102,\n",
       " -0.0964335,\n",
       " -0.06312658,\n",
       " 0.096649505,\n",
       " 0.009027259,\n",
       " 0.052046824,\n",
       " -0.92591757,\n",
       " -0.19010405,\n",
       " 0.06111027,\n",
       " -0.1226079,\n",
       " 0.07907741,\n",
       " 0.24275565,\n",
       " -0.09483838,\n",
       " -0.032347552,\n",
       " -0.112111494,\n",
       " -0.21262954,\n",
       " -0.17123027,\n",
       " -0.12308595,\n",
       " -0.0050519574,\n",
       " 0.017075723,\n",
       " -0.1609746,\n",
       " -0.07555236,\n",
       " 0.07753649,\n",
       " -0.18350974,\n",
       " -0.12726805,\n",
       " 0.09028305,\n",
       " 0.020870902,\n",
       " -0.10616081,\n",
       " 0.16434528,\n",
       " -0.2520934,\n",
       " 0.018133767,\n",
       " 0.08188497,\n",
       " -0.015657589,\n",
       " 0.020850075,\n",
       " -0.019176094,\n",
       " -0.09007549,\n",
       " 0.079345,\n",
       " 0.04953568,\n",
       " -0.057635915,\n",
       " -0.048710953,\n",
       " -0.0020284755,\n",
       " 0.04293364,\n",
       " -0.09678295,\n",
       " -0.0014759031,\n",
       " 0.05993217,\n",
       " 0.13471171,\n",
       " -0.13104503,\n",
       " -0.03251273,\n",
       " 0.07615873,\n",
       " -0.14024763,\n",
       " -0.01565659,\n",
       " 0.07920532,\n",
       " 0.053679813,\n",
       " 0.15790154,\n",
       " 0.1295922,\n",
       " -0.0014790866,\n",
       " -0.21887021,\n",
       " 0.082025595,\n",
       " -0.14563246,\n",
       " -0.026887195,\n",
       " 0.018637186,\n",
       " 0.35876414,\n",
       " -0.108856894,\n",
       " 0.10890965,\n",
       " -0.089904115,\n",
       " 0.045448046,\n",
       " 0.13133343,\n",
       " 0.034175776,\n",
       " 0.16776918,\n",
       " 0.09604698,\n",
       " 0.25318837,\n",
       " -0.10127103,\n",
       " -0.11736264,\n",
       " -0.004885363,\n",
       " -0.0033604214,\n",
       " 0.00988513,\n",
       " -0.10694117,\n",
       " -0.05351459,\n",
       " 0.027088761,\n",
       " -0.07451959,\n",
       " -0.11593136,\n",
       " 0.08713912,\n",
       " -0.018753953,\n",
       " 0.09094841,\n",
       " -0.044401992,\n",
       " 0.23042569,\n",
       " 0.100621395,\n",
       " -0.032250047,\n",
       " -0.13589413,\n",
       " 0.052611448,\n",
       " -0.05465267,\n",
       " 0.0048496844,\n",
       " 0.03975918,\n",
       " -0.015241909,\n",
       " -0.008021409,\n",
       " 0.08676979,\n",
       " -0.0025743155,\n",
       " 0.17775331,\n",
       " 0.09270681,\n",
       " -0.07270609,\n",
       " -0.11010433,\n",
       " -0.15470482,\n",
       " -0.26801765,\n",
       " -0.020347131,\n",
       " -0.046471085,\n",
       " 0.08898836,\n",
       " 0.093593486,\n",
       " 0.06285481,\n",
       " -0.06537218,\n",
       " 0.05605845,\n",
       " -0.043716412,\n",
       " -0.19429688,\n",
       " -0.09854038,\n",
       " 0.11464545,\n",
       " -0.043201324,\n",
       " 0.219351,\n",
       " -0.09576008,\n",
       " 0.048291907,\n",
       " 0.012769452,\n",
       " -0.030604547,\n",
       " 0.28260925,\n",
       " 0.095289394,\n",
       " 0.055872347,\n",
       " -0.047738608,\n",
       " -0.13058926,\n",
       " -0.16161951,\n",
       " 0.2742011,\n",
       " 0.20273557,\n",
       " 0.09450836,\n",
       " 0.07029873,\n",
       " 0.0051297774,\n",
       " -0.24466558,\n",
       " -0.01765695,\n",
       " 0.020242274,\n",
       " 0.16011363,\n",
       " 0.041240145,\n",
       " -0.12458566,\n",
       " 0.011385181,\n",
       " -0.024945224,\n",
       " 0.0067403154,\n",
       " -0.03313168,\n",
       " -0.03474493,\n",
       " 0.0028985033,\n",
       " -0.15107495,\n",
       " -0.084262446,\n",
       " 0.4230696,\n",
       " 0.120837756,\n",
       " -0.19315706,\n",
       " -0.04728142,\n",
       " -0.16934003,\n",
       " 0.07125295,\n",
       " 0.11201655,\n",
       " 0.21700467,\n",
       " -0.0120124845,\n",
       " 0.02902068,\n",
       " 0.20253853,\n",
       " 0.055608734,\n",
       " 0.033072956,\n",
       " -0.02728371,\n",
       " -0.048440278,\n",
       " 0.03834136,\n",
       " -0.07238774,\n",
       " 0.03308805,\n",
       " -0.021447955,\n",
       " -0.19806919,\n",
       " 0.1202971]"
      ]
     },
     "metadata": {},
     "execution_count": 19
    }
   ],
   "source": [
    "pickle.loads(df.embedding.iloc[0])"
   ]
  },
  {
   "cell_type": "code",
   "execution_count": 20,
   "metadata": {},
   "outputs": [
    {
     "output_type": "execute_result",
     "data": {
      "text/plain": [
       "JeffBezos          185\n",
       "JoeBiden           174\n",
       "BillGates          146\n",
       "BernieSanders      138\n",
       "elonmusk            19\n",
       "realDonaldTrump      1\n",
       "Name: username, dtype: int64"
      ]
     },
     "metadata": {},
     "execution_count": 20
    }
   ],
   "source": [
    "df.username.value_counts()"
   ]
  },
  {
   "cell_type": "code",
   "execution_count": 21,
   "metadata": {
    "tags": []
   },
   "outputs": [
    {
     "output_type": "stream",
     "name": "stdout",
     "text": [
      "(331, 300) (331,)\n"
     ]
    }
   ],
   "source": [
    "import numpy as np\n",
    "\n",
    "user1_embeddings = df.embedding_decoded[df.username == 'BillGates']\n",
    "user2_embeddings = df.embedding_decoded[df.username == 'JeffBezos']\n",
    "embeddings = pd.concat([user1_embeddings, user2_embeddings])\n",
    "\n",
    "embeddings_df = pd.DataFrame(embeddings.to_list(),\n",
    "                             columns=[f'dom{i}' for i in range(300)])\n",
    "labels = np.concatenate([np.ones(len(user1_embeddings)),\n",
    "                         np.zeros(len(user2_embeddings))])\n",
    "print(embeddings_df.shape, labels.shape)"
   ]
  },
  {
   "cell_type": "code",
   "execution_count": 22,
   "metadata": {
    "tags": []
   },
   "outputs": [
    {
     "output_type": "stream",
     "name": "stdout",
     "text": [
      "(248, 300) (83, 300)\n"
     ]
    }
   ],
   "source": [
    "from sklearn.model_selection import train_test_split\n",
    "\n",
    "X_train, X_test, y_train, y_test = train_test_split(\n",
    "    embeddings_df, labels, test_size=0.25, random_state=42\n",
    ")\n",
    "print(X_train.shape, X_test.shape)"
   ]
  },
  {
   "cell_type": "code",
   "execution_count": 23,
   "metadata": {
    "tags": []
   },
   "outputs": [
    {
     "output_type": "stream",
     "name": "stdout",
     "text": [
      "13.1 ms ± 199 µs per loop (mean ± std. dev. of 7 runs, 100 loops each)\n"
     ]
    }
   ],
   "source": [
    "from sklearn.linear_model import LogisticRegression\n",
    "\n",
    "log_reg = LogisticRegression(max_iter=1000)\n",
    "%timeit log_reg.fit(X_train, y_train)"
   ]
  },
  {
   "cell_type": "code",
   "execution_count": 24,
   "metadata": {
    "tags": []
   },
   "outputs": [
    {
     "output_type": "stream",
     "name": "stdout",
     "text": [
      "              precision    recall  f1-score   support\n\n         0.0       0.93      0.93      0.93        44\n         1.0       0.92      0.92      0.92        39\n\n    accuracy                           0.93        83\n   macro avg       0.93      0.93      0.93        83\nweighted avg       0.93      0.93      0.93        83\n\n"
     ]
    }
   ],
   "source": [
    "from sklearn.metrics import classification_report, plot_confusion_matrix\n",
    "\n",
    "y_pred = log_reg.predict(X_test)\n",
    "print(classification_report(y_test, y_pred))"
   ]
  },
  {
   "cell_type": "code",
   "execution_count": 25,
   "metadata": {},
   "outputs": [
    {
     "output_type": "display_data",
     "data": {
      "text/plain": "<Figure size 576x576 with 2 Axes>",
      "image/svg+xml": "<?xml version=\"1.0\" encoding=\"utf-8\" standalone=\"no\"?>\n<!DOCTYPE svg PUBLIC \"-//W3C//DTD SVG 1.1//EN\"\n  \"http://www.w3.org/Graphics/SVG/1.1/DTD/svg11.dtd\">\n<!-- Created with matplotlib (https://matplotlib.org/) -->\n<svg height=\"449.28pt\" version=\"1.1\" viewBox=\"0 0 511.474625 449.28\" width=\"511.474625pt\" xmlns=\"http://www.w3.org/2000/svg\" xmlns:xlink=\"http://www.w3.org/1999/xlink\">\n <metadata>\n  <rdf:RDF xmlns:cc=\"http://creativecommons.org/ns#\" xmlns:dc=\"http://purl.org/dc/elements/1.1/\" xmlns:rdf=\"http://www.w3.org/1999/02/22-rdf-syntax-ns#\">\n   <cc:Work>\n    <dc:type rdf:resource=\"http://purl.org/dc/dcmitype/StillImage\"/>\n    <dc:date>2020-10-08T15:51:00.629321</dc:date>\n    <dc:format>image/svg+xml</dc:format>\n    <dc:creator>\n     <cc:Agent>\n      <dc:title>Matplotlib v3.3.2, https://matplotlib.org/</dc:title>\n     </cc:Agent>\n    </dc:creator>\n   </cc:Work>\n  </rdf:RDF>\n </metadata>\n <defs>\n  <style type=\"text/css\">*{stroke-linecap:butt;stroke-linejoin:round;}</style>\n </defs>\n <g id=\"figure_1\">\n  <g id=\"patch_1\">\n   <path d=\"M 0 449.28 \nL 511.474625 449.28 \nL 511.474625 0 \nL 0 0 \nz\n\" style=\"fill:none;\"/>\n  </g>\n  <g id=\"axes_1\">\n   <g id=\"patch_2\">\n    <path d=\"M 80.1875 403.2 \nL 437.3075 403.2 \nL 437.3075 46.08 \nL 80.1875 46.08 \nz\n\" style=\"fill:#ffffff;\"/>\n   </g>\n   <g clip-path=\"url(#p436be9829f)\">\n    <image height=\"358\" id=\"imagea8f53411a6\" transform=\"scale(1 -1)translate(0 -358)\" width=\"358\" x=\"80.1875\" xlink:href=\"data:image/png;base64,\niVBORw0KGgoAAAANSUhEUgAAAWYAAAFmCAYAAABeJjAWAAAFJ0lEQVR4nO3WoQ3CUABFUYrCswiWmWoYplsxDAqBodX4n/wbcs4ET9285f357if4A9f7Y/YEGOI8ewAAv4QZIEaYAWKEGSBGmAFihBkgRpgBYoQZIEaYAWKEGSBGmAFihBkgRpgBYoQZIEaYAWKEGSBGmAFihBkgRpgBYoQZIEaYAWKEGSBGmAFihBkgRpgBYoQZIEaYAWKEGSBGmAFihBkgRpgBYoQZIEaYAWKEGSBGmAFihBkgRpgBYoQZIEaYAWKEGSBGmAFihBkgRpgBYoQZIEaYAWKEGSBGmAFihBkgRpgBYoQZIEaYAWKEGSBGmAFihBkgRpgBYoQZIEaYAWKEGSBGmAFihBkgRpgBYoQZIEaYAWKEGSBGmAFihBkgRpgBYoQZIEaYAWKEGSBGmAFihBkgRpgBYoQZIEaYAWKEGSBGmAFihBkgRpgBYoQZIEaYAWKEGSBGmAFihBkgRpgBYoQZIEaYAWKEGSBGmAFihBkgRpgBYoQZIEaYAWKEGSBGmAFihBkgRpgBYoQZIEaYAWKEGSBGmAFihBkgRpgBYoQZIEaYAWKEGSBGmAFihBkgRpgBYoQZIEaYAWKEGSBGmAFihBkgRpgBYoQZIEaYAWKEGSBGmAFihBkgRpgBYoQZIEaYAWKEGSBGmAFihBkgRpgBYoQZIEaYAWKEGSBGmAFihBkgRpgBYoQZIEaYAWKEGSBGmAFihBkgRpgBYoQZIEaYAWKEGSBGmAFihBkgRpgBYoQZIEaYAWKEGSBGmAFihBkgRpgBYoQZIEaYAWKEGSBGmAFihBkgRpgBYoQZIEaYAWKEGSBGmAFihBkgRpgBYoQZIEaYAWKEGSBGmAFihBkgRpgBYoQZIEaYAWKEGSBGmAFihBkgRpgBYoQZIEaYAWKEGSBmudzWffYIGOH13GZPgCE8ZoAYYQaIEWaAGGEGiBFmgBhhBogRZoAYYQaIEWaAGGEGiBFmgBhhBogRZoAYYQaIEWaAGGEGiBFmgBhhBogRZoAYYQaIEWaAGGEGiBFmgBhhBogRZoAYYQaIEWaAGGEGiBFmgBhhBogRZoAYYQaIEWaAGGEGiBFmgBhhBogRZoAYYQaIEWaAGGEGiBFmgBhhBogRZoAYYQaIEWaAGGEGiBFmgBhhBogRZoAYYQaIEWaAGGEGiBFmgBhhBogRZoAYYQaIEWaAGGEGiBFmgBhhBogRZoAYYQaIEWaAGGEGiBFmgBhhBogRZoAYYQaIEWaAGGEGiBFmgBhhBogRZoAYYQaIEWaAGGEGiBFmgBhhBogRZoAYYQaIEWaAGGEGiBFmgBhhBogRZoAYYQaIEWaAGGEGiBFmgBhhBogRZoAYYQaIEWaAGGEGiBFmgBhhBogRZoAYYQaIEWaAGGEGiBFmgBhhBogRZoAYYQaIEWaAGGEGiBFmgBhhBogRZoAYYQaIEWaAGGEGiBFmgBhhBogRZoAYYQaIEWaAGGEGiBFmgBhhBogRZoAYYQaIEWaAGGEGiBFmgBhhBogRZoAYYQaIEWaAGGEGiBFmgBhhBogRZoAYYQaIEWaAGGEGiBFmgBhhBogRZoAYYQaIEWaAGGEGiBFmgBhhBogRZoAYYQaIEWaAGGEGiBFmgBhhBogRZoAYYQaIEWaAGGEGiBFmgBhhBogRZoAYYQaIEWaAGGEGiBFmgBhhBogRZoAYYQaIEWaAGGEGiBFmgBhhBogRZoAYYQaIEWaAGGEGiBFmgBhhBogRZoAYYQaIEWaAGGEGiDkA1cQLYs+SBW8AAAAASUVORK5CYII=\" y=\"-45.2\"/>\n   </g>\n   <g id=\"matplotlib.axis_1\">\n    <g id=\"xtick_1\">\n     <g id=\"line2d_1\">\n      <defs>\n       <path d=\"M 0 0 \nL 0 3.5 \n\" id=\"m9c47881c3d\" style=\"stroke:#000000;stroke-width:0.8;\"/>\n      </defs>\n      <g>\n       <use style=\"stroke:#000000;stroke-width:0.8;\" x=\"169.4675\" xlink:href=\"#m9c47881c3d\" y=\"403.2\"/>\n      </g>\n     </g>\n     <g id=\"text_1\">\n      <!-- danawhite -->\n      <g transform=\"translate(143.312813 417.798437)scale(0.1 -0.1)\">\n       <defs>\n        <path d=\"M 45.40625 46.390625 \nL 45.40625 75.984375 \nL 54.390625 75.984375 \nL 54.390625 0 \nL 45.40625 0 \nL 45.40625 8.203125 \nQ 42.578125 3.328125 38.25 0.953125 \nQ 33.9375 -1.421875 27.875 -1.421875 \nQ 17.96875 -1.421875 11.734375 6.484375 \nQ 5.515625 14.40625 5.515625 27.296875 \nQ 5.515625 40.1875 11.734375 48.09375 \nQ 17.96875 56 27.875 56 \nQ 33.9375 56 38.25 53.625 \nQ 42.578125 51.265625 45.40625 46.390625 \nz\nM 14.796875 27.296875 \nQ 14.796875 17.390625 18.875 11.75 \nQ 22.953125 6.109375 30.078125 6.109375 \nQ 37.203125 6.109375 41.296875 11.75 \nQ 45.40625 17.390625 45.40625 27.296875 \nQ 45.40625 37.203125 41.296875 42.84375 \nQ 37.203125 48.484375 30.078125 48.484375 \nQ 22.953125 48.484375 18.875 42.84375 \nQ 14.796875 37.203125 14.796875 27.296875 \nz\n\" id=\"DejaVuSans-100\"/>\n        <path d=\"M 34.28125 27.484375 \nQ 23.390625 27.484375 19.1875 25 \nQ 14.984375 22.515625 14.984375 16.5 \nQ 14.984375 11.71875 18.140625 8.90625 \nQ 21.296875 6.109375 26.703125 6.109375 \nQ 34.1875 6.109375 38.703125 11.40625 \nQ 43.21875 16.703125 43.21875 25.484375 \nL 43.21875 27.484375 \nz\nM 52.203125 31.203125 \nL 52.203125 0 \nL 43.21875 0 \nL 43.21875 8.296875 \nQ 40.140625 3.328125 35.546875 0.953125 \nQ 30.953125 -1.421875 24.3125 -1.421875 \nQ 15.921875 -1.421875 10.953125 3.296875 \nQ 6 8.015625 6 15.921875 \nQ 6 25.140625 12.171875 29.828125 \nQ 18.359375 34.515625 30.609375 34.515625 \nL 43.21875 34.515625 \nL 43.21875 35.40625 \nQ 43.21875 41.609375 39.140625 45 \nQ 35.0625 48.390625 27.6875 48.390625 \nQ 23 48.390625 18.546875 47.265625 \nQ 14.109375 46.140625 10.015625 43.890625 \nL 10.015625 52.203125 \nQ 14.9375 54.109375 19.578125 55.046875 \nQ 24.21875 56 28.609375 56 \nQ 40.484375 56 46.34375 49.84375 \nQ 52.203125 43.703125 52.203125 31.203125 \nz\n\" id=\"DejaVuSans-97\"/>\n        <path d=\"M 54.890625 33.015625 \nL 54.890625 0 \nL 45.90625 0 \nL 45.90625 32.71875 \nQ 45.90625 40.484375 42.875 44.328125 \nQ 39.84375 48.1875 33.796875 48.1875 \nQ 26.515625 48.1875 22.3125 43.546875 \nQ 18.109375 38.921875 18.109375 30.90625 \nL 18.109375 0 \nL 9.078125 0 \nL 9.078125 54.6875 \nL 18.109375 54.6875 \nL 18.109375 46.1875 \nQ 21.34375 51.125 25.703125 53.5625 \nQ 30.078125 56 35.796875 56 \nQ 45.21875 56 50.046875 50.171875 \nQ 54.890625 44.34375 54.890625 33.015625 \nz\n\" id=\"DejaVuSans-110\"/>\n        <path d=\"M 4.203125 54.6875 \nL 13.1875 54.6875 \nL 24.421875 12.015625 \nL 35.59375 54.6875 \nL 46.1875 54.6875 \nL 57.421875 12.015625 \nL 68.609375 54.6875 \nL 77.59375 54.6875 \nL 63.28125 0 \nL 52.6875 0 \nL 40.921875 44.828125 \nL 29.109375 0 \nL 18.5 0 \nz\n\" id=\"DejaVuSans-119\"/>\n        <path d=\"M 54.890625 33.015625 \nL 54.890625 0 \nL 45.90625 0 \nL 45.90625 32.71875 \nQ 45.90625 40.484375 42.875 44.328125 \nQ 39.84375 48.1875 33.796875 48.1875 \nQ 26.515625 48.1875 22.3125 43.546875 \nQ 18.109375 38.921875 18.109375 30.90625 \nL 18.109375 0 \nL 9.078125 0 \nL 9.078125 75.984375 \nL 18.109375 75.984375 \nL 18.109375 46.1875 \nQ 21.34375 51.125 25.703125 53.5625 \nQ 30.078125 56 35.796875 56 \nQ 45.21875 56 50.046875 50.171875 \nQ 54.890625 44.34375 54.890625 33.015625 \nz\n\" id=\"DejaVuSans-104\"/>\n        <path d=\"M 9.421875 54.6875 \nL 18.40625 54.6875 \nL 18.40625 0 \nL 9.421875 0 \nz\nM 9.421875 75.984375 \nL 18.40625 75.984375 \nL 18.40625 64.59375 \nL 9.421875 64.59375 \nz\n\" id=\"DejaVuSans-105\"/>\n        <path d=\"M 18.3125 70.21875 \nL 18.3125 54.6875 \nL 36.8125 54.6875 \nL 36.8125 47.703125 \nL 18.3125 47.703125 \nL 18.3125 18.015625 \nQ 18.3125 11.328125 20.140625 9.421875 \nQ 21.96875 7.515625 27.59375 7.515625 \nL 36.8125 7.515625 \nL 36.8125 0 \nL 27.59375 0 \nQ 17.1875 0 13.234375 3.875 \nQ 9.28125 7.765625 9.28125 18.015625 \nL 9.28125 47.703125 \nL 2.6875 47.703125 \nL 2.6875 54.6875 \nL 9.28125 54.6875 \nL 9.28125 70.21875 \nz\n\" id=\"DejaVuSans-116\"/>\n        <path d=\"M 56.203125 29.59375 \nL 56.203125 25.203125 \nL 14.890625 25.203125 \nQ 15.484375 15.921875 20.484375 11.0625 \nQ 25.484375 6.203125 34.421875 6.203125 \nQ 39.59375 6.203125 44.453125 7.46875 \nQ 49.3125 8.734375 54.109375 11.28125 \nL 54.109375 2.78125 \nQ 49.265625 0.734375 44.1875 -0.34375 \nQ 39.109375 -1.421875 33.890625 -1.421875 \nQ 20.796875 -1.421875 13.15625 6.1875 \nQ 5.515625 13.8125 5.515625 26.8125 \nQ 5.515625 40.234375 12.765625 48.109375 \nQ 20.015625 56 32.328125 56 \nQ 43.359375 56 49.78125 48.890625 \nQ 56.203125 41.796875 56.203125 29.59375 \nz\nM 47.21875 32.234375 \nQ 47.125 39.59375 43.09375 43.984375 \nQ 39.0625 48.390625 32.421875 48.390625 \nQ 24.90625 48.390625 20.390625 44.140625 \nQ 15.875 39.890625 15.1875 32.171875 \nz\n\" id=\"DejaVuSans-101\"/>\n       </defs>\n       <use xlink:href=\"#DejaVuSans-100\"/>\n       <use x=\"63.476562\" xlink:href=\"#DejaVuSans-97\"/>\n       <use x=\"124.755859\" xlink:href=\"#DejaVuSans-110\"/>\n       <use x=\"188.134766\" xlink:href=\"#DejaVuSans-97\"/>\n       <use x=\"249.414062\" xlink:href=\"#DejaVuSans-119\"/>\n       <use x=\"331.201172\" xlink:href=\"#DejaVuSans-104\"/>\n       <use x=\"394.580078\" xlink:href=\"#DejaVuSans-105\"/>\n       <use x=\"422.363281\" xlink:href=\"#DejaVuSans-116\"/>\n       <use x=\"461.572266\" xlink:href=\"#DejaVuSans-101\"/>\n      </g>\n     </g>\n    </g>\n    <g id=\"xtick_2\">\n     <g id=\"line2d_2\">\n      <g>\n       <use style=\"stroke:#000000;stroke-width:0.8;\" x=\"348.0275\" xlink:href=\"#m9c47881c3d\" y=\"403.2\"/>\n      </g>\n     </g>\n     <g id=\"text_2\">\n      <!-- JeffBezos -->\n      <g transform=\"translate(325.160313 417.798437)scale(0.1 -0.1)\">\n       <defs>\n        <path d=\"M 9.8125 72.90625 \nL 19.671875 72.90625 \nL 19.671875 5.078125 \nQ 19.671875 -8.109375 14.671875 -14.0625 \nQ 9.671875 -20.015625 -1.421875 -20.015625 \nL -5.171875 -20.015625 \nL -5.171875 -11.71875 \nL -2.09375 -11.71875 \nQ 4.4375 -11.71875 7.125 -8.046875 \nQ 9.8125 -4.390625 9.8125 5.078125 \nz\n\" id=\"DejaVuSans-74\"/>\n        <path d=\"M 37.109375 75.984375 \nL 37.109375 68.5 \nL 28.515625 68.5 \nQ 23.6875 68.5 21.796875 66.546875 \nQ 19.921875 64.59375 19.921875 59.515625 \nL 19.921875 54.6875 \nL 34.71875 54.6875 \nL 34.71875 47.703125 \nL 19.921875 47.703125 \nL 19.921875 0 \nL 10.890625 0 \nL 10.890625 47.703125 \nL 2.296875 47.703125 \nL 2.296875 54.6875 \nL 10.890625 54.6875 \nL 10.890625 58.5 \nQ 10.890625 67.625 15.140625 71.796875 \nQ 19.390625 75.984375 28.609375 75.984375 \nz\n\" id=\"DejaVuSans-102\"/>\n        <path d=\"M 19.671875 34.8125 \nL 19.671875 8.109375 \nL 35.5 8.109375 \nQ 43.453125 8.109375 47.28125 11.40625 \nQ 51.125 14.703125 51.125 21.484375 \nQ 51.125 28.328125 47.28125 31.5625 \nQ 43.453125 34.8125 35.5 34.8125 \nz\nM 19.671875 64.796875 \nL 19.671875 42.828125 \nL 34.28125 42.828125 \nQ 41.5 42.828125 45.03125 45.53125 \nQ 48.578125 48.25 48.578125 53.8125 \nQ 48.578125 59.328125 45.03125 62.0625 \nQ 41.5 64.796875 34.28125 64.796875 \nz\nM 9.8125 72.90625 \nL 35.015625 72.90625 \nQ 46.296875 72.90625 52.390625 68.21875 \nQ 58.5 63.53125 58.5 54.890625 \nQ 58.5 48.1875 55.375 44.234375 \nQ 52.25 40.28125 46.1875 39.3125 \nQ 53.46875 37.75 57.5 32.78125 \nQ 61.53125 27.828125 61.53125 20.40625 \nQ 61.53125 10.640625 54.890625 5.3125 \nQ 48.25 0 35.984375 0 \nL 9.8125 0 \nz\n\" id=\"DejaVuSans-66\"/>\n        <path d=\"M 5.515625 54.6875 \nL 48.1875 54.6875 \nL 48.1875 46.484375 \nL 14.40625 7.171875 \nL 48.1875 7.171875 \nL 48.1875 0 \nL 4.296875 0 \nL 4.296875 8.203125 \nL 38.09375 47.515625 \nL 5.515625 47.515625 \nz\n\" id=\"DejaVuSans-122\"/>\n        <path d=\"M 30.609375 48.390625 \nQ 23.390625 48.390625 19.1875 42.75 \nQ 14.984375 37.109375 14.984375 27.296875 \nQ 14.984375 17.484375 19.15625 11.84375 \nQ 23.34375 6.203125 30.609375 6.203125 \nQ 37.796875 6.203125 41.984375 11.859375 \nQ 46.1875 17.53125 46.1875 27.296875 \nQ 46.1875 37.015625 41.984375 42.703125 \nQ 37.796875 48.390625 30.609375 48.390625 \nz\nM 30.609375 56 \nQ 42.328125 56 49.015625 48.375 \nQ 55.71875 40.765625 55.71875 27.296875 \nQ 55.71875 13.875 49.015625 6.21875 \nQ 42.328125 -1.421875 30.609375 -1.421875 \nQ 18.84375 -1.421875 12.171875 6.21875 \nQ 5.515625 13.875 5.515625 27.296875 \nQ 5.515625 40.765625 12.171875 48.375 \nQ 18.84375 56 30.609375 56 \nz\n\" id=\"DejaVuSans-111\"/>\n        <path d=\"M 44.28125 53.078125 \nL 44.28125 44.578125 \nQ 40.484375 46.53125 36.375 47.5 \nQ 32.28125 48.484375 27.875 48.484375 \nQ 21.1875 48.484375 17.84375 46.4375 \nQ 14.5 44.390625 14.5 40.28125 \nQ 14.5 37.15625 16.890625 35.375 \nQ 19.28125 33.59375 26.515625 31.984375 \nL 29.59375 31.296875 \nQ 39.15625 29.25 43.1875 25.515625 \nQ 47.21875 21.78125 47.21875 15.09375 \nQ 47.21875 7.46875 41.1875 3.015625 \nQ 35.15625 -1.421875 24.609375 -1.421875 \nQ 20.21875 -1.421875 15.453125 -0.5625 \nQ 10.6875 0.296875 5.421875 2 \nL 5.421875 11.28125 \nQ 10.40625 8.6875 15.234375 7.390625 \nQ 20.0625 6.109375 24.8125 6.109375 \nQ 31.15625 6.109375 34.5625 8.28125 \nQ 37.984375 10.453125 37.984375 14.40625 \nQ 37.984375 18.0625 35.515625 20.015625 \nQ 33.0625 21.96875 24.703125 23.78125 \nL 21.578125 24.515625 \nQ 13.234375 26.265625 9.515625 29.90625 \nQ 5.8125 33.546875 5.8125 39.890625 \nQ 5.8125 47.609375 11.28125 51.796875 \nQ 16.75 56 26.8125 56 \nQ 31.78125 56 36.171875 55.265625 \nQ 40.578125 54.546875 44.28125 53.078125 \nz\n\" id=\"DejaVuSans-115\"/>\n       </defs>\n       <use xlink:href=\"#DejaVuSans-74\"/>\n       <use x=\"29.492188\" xlink:href=\"#DejaVuSans-101\"/>\n       <use x=\"91.015625\" xlink:href=\"#DejaVuSans-102\"/>\n       <use x=\"126.220703\" xlink:href=\"#DejaVuSans-102\"/>\n       <use x=\"161.425781\" xlink:href=\"#DejaVuSans-66\"/>\n       <use x=\"230.029297\" xlink:href=\"#DejaVuSans-101\"/>\n       <use x=\"291.552734\" xlink:href=\"#DejaVuSans-122\"/>\n       <use x=\"344.042969\" xlink:href=\"#DejaVuSans-111\"/>\n       <use x=\"405.224609\" xlink:href=\"#DejaVuSans-115\"/>\n      </g>\n     </g>\n    </g>\n    <g id=\"text_3\">\n     <!-- Predicted label -->\n     <g transform=\"translate(221.595156 431.476562)scale(0.1 -0.1)\">\n      <defs>\n       <path d=\"M 19.671875 64.796875 \nL 19.671875 37.40625 \nL 32.078125 37.40625 \nQ 38.96875 37.40625 42.71875 40.96875 \nQ 46.484375 44.53125 46.484375 51.125 \nQ 46.484375 57.671875 42.71875 61.234375 \nQ 38.96875 64.796875 32.078125 64.796875 \nz\nM 9.8125 72.90625 \nL 32.078125 72.90625 \nQ 44.34375 72.90625 50.609375 67.359375 \nQ 56.890625 61.8125 56.890625 51.125 \nQ 56.890625 40.328125 50.609375 34.8125 \nQ 44.34375 29.296875 32.078125 29.296875 \nL 19.671875 29.296875 \nL 19.671875 0 \nL 9.8125 0 \nz\n\" id=\"DejaVuSans-80\"/>\n       <path d=\"M 41.109375 46.296875 \nQ 39.59375 47.171875 37.8125 47.578125 \nQ 36.03125 48 33.890625 48 \nQ 26.265625 48 22.1875 43.046875 \nQ 18.109375 38.09375 18.109375 28.8125 \nL 18.109375 0 \nL 9.078125 0 \nL 9.078125 54.6875 \nL 18.109375 54.6875 \nL 18.109375 46.1875 \nQ 20.953125 51.171875 25.484375 53.578125 \nQ 30.03125 56 36.53125 56 \nQ 37.453125 56 38.578125 55.875 \nQ 39.703125 55.765625 41.0625 55.515625 \nz\n\" id=\"DejaVuSans-114\"/>\n       <path d=\"M 48.78125 52.59375 \nL 48.78125 44.1875 \nQ 44.96875 46.296875 41.140625 47.34375 \nQ 37.3125 48.390625 33.40625 48.390625 \nQ 24.65625 48.390625 19.8125 42.84375 \nQ 14.984375 37.3125 14.984375 27.296875 \nQ 14.984375 17.28125 19.8125 11.734375 \nQ 24.65625 6.203125 33.40625 6.203125 \nQ 37.3125 6.203125 41.140625 7.25 \nQ 44.96875 8.296875 48.78125 10.40625 \nL 48.78125 2.09375 \nQ 45.015625 0.34375 40.984375 -0.53125 \nQ 36.96875 -1.421875 32.421875 -1.421875 \nQ 20.0625 -1.421875 12.78125 6.34375 \nQ 5.515625 14.109375 5.515625 27.296875 \nQ 5.515625 40.671875 12.859375 48.328125 \nQ 20.21875 56 33.015625 56 \nQ 37.15625 56 41.109375 55.140625 \nQ 45.0625 54.296875 48.78125 52.59375 \nz\n\" id=\"DejaVuSans-99\"/>\n       <path id=\"DejaVuSans-32\"/>\n       <path d=\"M 9.421875 75.984375 \nL 18.40625 75.984375 \nL 18.40625 0 \nL 9.421875 0 \nz\n\" id=\"DejaVuSans-108\"/>\n       <path d=\"M 48.6875 27.296875 \nQ 48.6875 37.203125 44.609375 42.84375 \nQ 40.53125 48.484375 33.40625 48.484375 \nQ 26.265625 48.484375 22.1875 42.84375 \nQ 18.109375 37.203125 18.109375 27.296875 \nQ 18.109375 17.390625 22.1875 11.75 \nQ 26.265625 6.109375 33.40625 6.109375 \nQ 40.53125 6.109375 44.609375 11.75 \nQ 48.6875 17.390625 48.6875 27.296875 \nz\nM 18.109375 46.390625 \nQ 20.953125 51.265625 25.265625 53.625 \nQ 29.59375 56 35.59375 56 \nQ 45.5625 56 51.78125 48.09375 \nQ 58.015625 40.1875 58.015625 27.296875 \nQ 58.015625 14.40625 51.78125 6.484375 \nQ 45.5625 -1.421875 35.59375 -1.421875 \nQ 29.59375 -1.421875 25.265625 0.953125 \nQ 20.953125 3.328125 18.109375 8.203125 \nL 18.109375 0 \nL 9.078125 0 \nL 9.078125 75.984375 \nL 18.109375 75.984375 \nz\n\" id=\"DejaVuSans-98\"/>\n      </defs>\n      <use xlink:href=\"#DejaVuSans-80\"/>\n      <use x=\"58.552734\" xlink:href=\"#DejaVuSans-114\"/>\n      <use x=\"97.416016\" xlink:href=\"#DejaVuSans-101\"/>\n      <use x=\"158.939453\" xlink:href=\"#DejaVuSans-100\"/>\n      <use x=\"222.416016\" xlink:href=\"#DejaVuSans-105\"/>\n      <use x=\"250.199219\" xlink:href=\"#DejaVuSans-99\"/>\n      <use x=\"305.179688\" xlink:href=\"#DejaVuSans-116\"/>\n      <use x=\"344.388672\" xlink:href=\"#DejaVuSans-101\"/>\n      <use x=\"405.912109\" xlink:href=\"#DejaVuSans-100\"/>\n      <use x=\"469.388672\" xlink:href=\"#DejaVuSans-32\"/>\n      <use x=\"501.175781\" xlink:href=\"#DejaVuSans-108\"/>\n      <use x=\"528.958984\" xlink:href=\"#DejaVuSans-97\"/>\n      <use x=\"590.238281\" xlink:href=\"#DejaVuSans-98\"/>\n      <use x=\"653.714844\" xlink:href=\"#DejaVuSans-101\"/>\n      <use x=\"715.238281\" xlink:href=\"#DejaVuSans-108\"/>\n     </g>\n    </g>\n   </g>\n   <g id=\"matplotlib.axis_2\">\n    <g id=\"ytick_1\">\n     <g id=\"line2d_3\">\n      <defs>\n       <path d=\"M 0 0 \nL -3.5 0 \n\" id=\"mc442156d67\" style=\"stroke:#000000;stroke-width:0.8;\"/>\n      </defs>\n      <g>\n       <use style=\"stroke:#000000;stroke-width:0.8;\" x=\"80.1875\" xlink:href=\"#mc442156d67\" y=\"135.36\"/>\n      </g>\n     </g>\n     <g id=\"text_4\">\n      <!-- danawhite -->\n      <g transform=\"translate(20.878125 139.159219)scale(0.1 -0.1)\">\n       <use xlink:href=\"#DejaVuSans-100\"/>\n       <use x=\"63.476562\" xlink:href=\"#DejaVuSans-97\"/>\n       <use x=\"124.755859\" xlink:href=\"#DejaVuSans-110\"/>\n       <use x=\"188.134766\" xlink:href=\"#DejaVuSans-97\"/>\n       <use x=\"249.414062\" xlink:href=\"#DejaVuSans-119\"/>\n       <use x=\"331.201172\" xlink:href=\"#DejaVuSans-104\"/>\n       <use x=\"394.580078\" xlink:href=\"#DejaVuSans-105\"/>\n       <use x=\"422.363281\" xlink:href=\"#DejaVuSans-116\"/>\n       <use x=\"461.572266\" xlink:href=\"#DejaVuSans-101\"/>\n      </g>\n     </g>\n    </g>\n    <g id=\"ytick_2\">\n     <g id=\"line2d_4\">\n      <g>\n       <use style=\"stroke:#000000;stroke-width:0.8;\" x=\"80.1875\" xlink:href=\"#mc442156d67\" y=\"313.92\"/>\n      </g>\n     </g>\n     <g id=\"text_5\">\n      <!-- JeffBezos -->\n      <g transform=\"translate(27.453125 317.719219)scale(0.1 -0.1)\">\n       <use xlink:href=\"#DejaVuSans-74\"/>\n       <use x=\"29.492188\" xlink:href=\"#DejaVuSans-101\"/>\n       <use x=\"91.015625\" xlink:href=\"#DejaVuSans-102\"/>\n       <use x=\"126.220703\" xlink:href=\"#DejaVuSans-102\"/>\n       <use x=\"161.425781\" xlink:href=\"#DejaVuSans-66\"/>\n       <use x=\"230.029297\" xlink:href=\"#DejaVuSans-101\"/>\n       <use x=\"291.552734\" xlink:href=\"#DejaVuSans-122\"/>\n       <use x=\"344.042969\" xlink:href=\"#DejaVuSans-111\"/>\n       <use x=\"405.224609\" xlink:href=\"#DejaVuSans-115\"/>\n      </g>\n     </g>\n    </g>\n    <g id=\"text_6\">\n     <!-- True label -->\n     <g transform=\"translate(14.798437 248.939219)rotate(-90)scale(0.1 -0.1)\">\n      <defs>\n       <path d=\"M -0.296875 72.90625 \nL 61.375 72.90625 \nL 61.375 64.59375 \nL 35.5 64.59375 \nL 35.5 0 \nL 25.59375 0 \nL 25.59375 64.59375 \nL -0.296875 64.59375 \nz\n\" id=\"DejaVuSans-84\"/>\n       <path d=\"M 8.5 21.578125 \nL 8.5 54.6875 \nL 17.484375 54.6875 \nL 17.484375 21.921875 \nQ 17.484375 14.15625 20.5 10.265625 \nQ 23.53125 6.390625 29.59375 6.390625 \nQ 36.859375 6.390625 41.078125 11.03125 \nQ 45.3125 15.671875 45.3125 23.6875 \nL 45.3125 54.6875 \nL 54.296875 54.6875 \nL 54.296875 0 \nL 45.3125 0 \nL 45.3125 8.40625 \nQ 42.046875 3.421875 37.71875 1 \nQ 33.40625 -1.421875 27.6875 -1.421875 \nQ 18.265625 -1.421875 13.375 4.4375 \nQ 8.5 10.296875 8.5 21.578125 \nz\nM 31.109375 56 \nz\n\" id=\"DejaVuSans-117\"/>\n      </defs>\n      <use xlink:href=\"#DejaVuSans-84\"/>\n      <use x=\"46.333984\" xlink:href=\"#DejaVuSans-114\"/>\n      <use x=\"87.447266\" xlink:href=\"#DejaVuSans-117\"/>\n      <use x=\"150.826172\" xlink:href=\"#DejaVuSans-101\"/>\n      <use x=\"212.349609\" xlink:href=\"#DejaVuSans-32\"/>\n      <use x=\"244.136719\" xlink:href=\"#DejaVuSans-108\"/>\n      <use x=\"271.919922\" xlink:href=\"#DejaVuSans-97\"/>\n      <use x=\"333.199219\" xlink:href=\"#DejaVuSans-98\"/>\n      <use x=\"396.675781\" xlink:href=\"#DejaVuSans-101\"/>\n      <use x=\"458.199219\" xlink:href=\"#DejaVuSans-108\"/>\n     </g>\n    </g>\n   </g>\n   <g id=\"patch_3\">\n    <path d=\"M 80.1875 403.2 \nL 80.1875 46.08 \n\" style=\"fill:none;stroke:#000000;stroke-linecap:square;stroke-linejoin:miter;stroke-width:0.8;\"/>\n   </g>\n   <g id=\"patch_4\">\n    <path d=\"M 437.3075 403.2 \nL 437.3075 46.08 \n\" style=\"fill:none;stroke:#000000;stroke-linecap:square;stroke-linejoin:miter;stroke-width:0.8;\"/>\n   </g>\n   <g id=\"patch_5\">\n    <path d=\"M 80.1875 403.2 \nL 437.3075 403.2 \n\" style=\"fill:none;stroke:#000000;stroke-linecap:square;stroke-linejoin:miter;stroke-width:0.8;\"/>\n   </g>\n   <g id=\"patch_6\">\n    <path d=\"M 80.1875 46.08 \nL 437.3075 46.08 \n\" style=\"fill:none;stroke:#000000;stroke-linecap:square;stroke-linejoin:miter;stroke-width:0.8;\"/>\n   </g>\n   <g id=\"text_7\">\n    <!-- 0.93 -->\n    <g style=\"fill:#f7fbff;\" transform=\"translate(158.334688 138.119375)scale(0.1 -0.1)\">\n     <defs>\n      <path d=\"M 31.78125 66.40625 \nQ 24.171875 66.40625 20.328125 58.90625 \nQ 16.5 51.421875 16.5 36.375 \nQ 16.5 21.390625 20.328125 13.890625 \nQ 24.171875 6.390625 31.78125 6.390625 \nQ 39.453125 6.390625 43.28125 13.890625 \nQ 47.125 21.390625 47.125 36.375 \nQ 47.125 51.421875 43.28125 58.90625 \nQ 39.453125 66.40625 31.78125 66.40625 \nz\nM 31.78125 74.21875 \nQ 44.046875 74.21875 50.515625 64.515625 \nQ 56.984375 54.828125 56.984375 36.375 \nQ 56.984375 17.96875 50.515625 8.265625 \nQ 44.046875 -1.421875 31.78125 -1.421875 \nQ 19.53125 -1.421875 13.0625 8.265625 \nQ 6.59375 17.96875 6.59375 36.375 \nQ 6.59375 54.828125 13.0625 64.515625 \nQ 19.53125 74.21875 31.78125 74.21875 \nz\n\" id=\"DejaVuSans-48\"/>\n      <path d=\"M 10.6875 12.40625 \nL 21 12.40625 \nL 21 0 \nL 10.6875 0 \nz\n\" id=\"DejaVuSans-46\"/>\n      <path d=\"M 10.984375 1.515625 \nL 10.984375 10.5 \nQ 14.703125 8.734375 18.5 7.8125 \nQ 22.3125 6.890625 25.984375 6.890625 \nQ 35.75 6.890625 40.890625 13.453125 \nQ 46.046875 20.015625 46.78125 33.40625 \nQ 43.953125 29.203125 39.59375 26.953125 \nQ 35.25 24.703125 29.984375 24.703125 \nQ 19.046875 24.703125 12.671875 31.3125 \nQ 6.296875 37.9375 6.296875 49.421875 \nQ 6.296875 60.640625 12.9375 67.421875 \nQ 19.578125 74.21875 30.609375 74.21875 \nQ 43.265625 74.21875 49.921875 64.515625 \nQ 56.59375 54.828125 56.59375 36.375 \nQ 56.59375 19.140625 48.40625 8.859375 \nQ 40.234375 -1.421875 26.421875 -1.421875 \nQ 22.703125 -1.421875 18.890625 -0.6875 \nQ 15.09375 0.046875 10.984375 1.515625 \nz\nM 30.609375 32.421875 \nQ 37.25 32.421875 41.125 36.953125 \nQ 45.015625 41.5 45.015625 49.421875 \nQ 45.015625 57.28125 41.125 61.84375 \nQ 37.25 66.40625 30.609375 66.40625 \nQ 23.96875 66.40625 20.09375 61.84375 \nQ 16.21875 57.28125 16.21875 49.421875 \nQ 16.21875 41.5 20.09375 36.953125 \nQ 23.96875 32.421875 30.609375 32.421875 \nz\n\" id=\"DejaVuSans-57\"/>\n      <path d=\"M 40.578125 39.3125 \nQ 47.65625 37.796875 51.625 33 \nQ 55.609375 28.21875 55.609375 21.1875 \nQ 55.609375 10.40625 48.1875 4.484375 \nQ 40.765625 -1.421875 27.09375 -1.421875 \nQ 22.515625 -1.421875 17.65625 -0.515625 \nQ 12.796875 0.390625 7.625 2.203125 \nL 7.625 11.71875 \nQ 11.71875 9.328125 16.59375 8.109375 \nQ 21.484375 6.890625 26.8125 6.890625 \nQ 36.078125 6.890625 40.9375 10.546875 \nQ 45.796875 14.203125 45.796875 21.1875 \nQ 45.796875 27.640625 41.28125 31.265625 \nQ 36.765625 34.90625 28.71875 34.90625 \nL 20.21875 34.90625 \nL 20.21875 43.015625 \nL 29.109375 43.015625 \nQ 36.375 43.015625 40.234375 45.921875 \nQ 44.09375 48.828125 44.09375 54.296875 \nQ 44.09375 59.90625 40.109375 62.90625 \nQ 36.140625 65.921875 28.71875 65.921875 \nQ 24.65625 65.921875 20.015625 65.03125 \nQ 15.375 64.15625 9.8125 62.3125 \nL 9.8125 71.09375 \nQ 15.4375 72.65625 20.34375 73.4375 \nQ 25.25 74.21875 29.59375 74.21875 \nQ 40.828125 74.21875 47.359375 69.109375 \nQ 53.90625 64.015625 53.90625 55.328125 \nQ 53.90625 49.265625 50.4375 45.09375 \nQ 46.96875 40.921875 40.578125 39.3125 \nz\n\" id=\"DejaVuSans-51\"/>\n     </defs>\n     <use xlink:href=\"#DejaVuSans-48\"/>\n     <use x=\"63.623047\" xlink:href=\"#DejaVuSans-46\"/>\n     <use x=\"95.410156\" xlink:href=\"#DejaVuSans-57\"/>\n     <use x=\"159.033203\" xlink:href=\"#DejaVuSans-51\"/>\n    </g>\n   </g>\n   <g id=\"text_8\">\n    <!-- 0.068 -->\n    <g style=\"fill:#08306b;\" transform=\"translate(333.713438 138.119375)scale(0.1 -0.1)\">\n     <defs>\n      <path d=\"M 33.015625 40.375 \nQ 26.375 40.375 22.484375 35.828125 \nQ 18.609375 31.296875 18.609375 23.390625 \nQ 18.609375 15.53125 22.484375 10.953125 \nQ 26.375 6.390625 33.015625 6.390625 \nQ 39.65625 6.390625 43.53125 10.953125 \nQ 47.40625 15.53125 47.40625 23.390625 \nQ 47.40625 31.296875 43.53125 35.828125 \nQ 39.65625 40.375 33.015625 40.375 \nz\nM 52.59375 71.296875 \nL 52.59375 62.3125 \nQ 48.875 64.0625 45.09375 64.984375 \nQ 41.3125 65.921875 37.59375 65.921875 \nQ 27.828125 65.921875 22.671875 59.328125 \nQ 17.53125 52.734375 16.796875 39.40625 \nQ 19.671875 43.65625 24.015625 45.921875 \nQ 28.375 48.1875 33.59375 48.1875 \nQ 44.578125 48.1875 50.953125 41.515625 \nQ 57.328125 34.859375 57.328125 23.390625 \nQ 57.328125 12.15625 50.6875 5.359375 \nQ 44.046875 -1.421875 33.015625 -1.421875 \nQ 20.359375 -1.421875 13.671875 8.265625 \nQ 6.984375 17.96875 6.984375 36.375 \nQ 6.984375 53.65625 15.1875 63.9375 \nQ 23.390625 74.21875 37.203125 74.21875 \nQ 40.921875 74.21875 44.703125 73.484375 \nQ 48.484375 72.75 52.59375 71.296875 \nz\n\" id=\"DejaVuSans-54\"/>\n      <path d=\"M 31.78125 34.625 \nQ 24.75 34.625 20.71875 30.859375 \nQ 16.703125 27.09375 16.703125 20.515625 \nQ 16.703125 13.921875 20.71875 10.15625 \nQ 24.75 6.390625 31.78125 6.390625 \nQ 38.8125 6.390625 42.859375 10.171875 \nQ 46.921875 13.96875 46.921875 20.515625 \nQ 46.921875 27.09375 42.890625 30.859375 \nQ 38.875 34.625 31.78125 34.625 \nz\nM 21.921875 38.8125 \nQ 15.578125 40.375 12.03125 44.71875 \nQ 8.5 49.078125 8.5 55.328125 \nQ 8.5 64.0625 14.71875 69.140625 \nQ 20.953125 74.21875 31.78125 74.21875 \nQ 42.671875 74.21875 48.875 69.140625 \nQ 55.078125 64.0625 55.078125 55.328125 \nQ 55.078125 49.078125 51.53125 44.71875 \nQ 48 40.375 41.703125 38.8125 \nQ 48.828125 37.15625 52.796875 32.3125 \nQ 56.78125 27.484375 56.78125 20.515625 \nQ 56.78125 9.90625 50.3125 4.234375 \nQ 43.84375 -1.421875 31.78125 -1.421875 \nQ 19.734375 -1.421875 13.25 4.234375 \nQ 6.78125 9.90625 6.78125 20.515625 \nQ 6.78125 27.484375 10.78125 32.3125 \nQ 14.796875 37.15625 21.921875 38.8125 \nz\nM 18.3125 54.390625 \nQ 18.3125 48.734375 21.84375 45.5625 \nQ 25.390625 42.390625 31.78125 42.390625 \nQ 38.140625 42.390625 41.71875 45.5625 \nQ 45.3125 48.734375 45.3125 54.390625 \nQ 45.3125 60.0625 41.71875 63.234375 \nQ 38.140625 66.40625 31.78125 66.40625 \nQ 25.390625 66.40625 21.84375 63.234375 \nQ 18.3125 60.0625 18.3125 54.390625 \nz\n\" id=\"DejaVuSans-56\"/>\n     </defs>\n     <use xlink:href=\"#DejaVuSans-48\"/>\n     <use x=\"63.623047\" xlink:href=\"#DejaVuSans-46\"/>\n     <use x=\"95.410156\" xlink:href=\"#DejaVuSans-48\"/>\n     <use x=\"159.033203\" xlink:href=\"#DejaVuSans-54\"/>\n     <use x=\"222.65625\" xlink:href=\"#DejaVuSans-56\"/>\n    </g>\n   </g>\n   <g id=\"text_9\">\n    <!-- 0.077 -->\n    <g style=\"fill:#08306b;\" transform=\"translate(155.153438 316.679375)scale(0.1 -0.1)\">\n     <defs>\n      <path d=\"M 8.203125 72.90625 \nL 55.078125 72.90625 \nL 55.078125 68.703125 \nL 28.609375 0 \nL 18.3125 0 \nL 43.21875 64.59375 \nL 8.203125 64.59375 \nz\n\" id=\"DejaVuSans-55\"/>\n     </defs>\n     <use xlink:href=\"#DejaVuSans-48\"/>\n     <use x=\"63.623047\" xlink:href=\"#DejaVuSans-46\"/>\n     <use x=\"95.410156\" xlink:href=\"#DejaVuSans-48\"/>\n     <use x=\"159.033203\" xlink:href=\"#DejaVuSans-55\"/>\n     <use x=\"222.65625\" xlink:href=\"#DejaVuSans-55\"/>\n    </g>\n   </g>\n   <g id=\"text_10\">\n    <!-- 0.92 -->\n    <g style=\"fill:#f7fbff;\" transform=\"translate(336.894688 316.679375)scale(0.1 -0.1)\">\n     <defs>\n      <path d=\"M 19.1875 8.296875 \nL 53.609375 8.296875 \nL 53.609375 0 \nL 7.328125 0 \nL 7.328125 8.296875 \nQ 12.9375 14.109375 22.625 23.890625 \nQ 32.328125 33.6875 34.8125 36.53125 \nQ 39.546875 41.84375 41.421875 45.53125 \nQ 43.3125 49.21875 43.3125 52.78125 \nQ 43.3125 58.59375 39.234375 62.25 \nQ 35.15625 65.921875 28.609375 65.921875 \nQ 23.96875 65.921875 18.8125 64.3125 \nQ 13.671875 62.703125 7.8125 59.421875 \nL 7.8125 69.390625 \nQ 13.765625 71.78125 18.9375 73 \nQ 24.125 74.21875 28.421875 74.21875 \nQ 39.75 74.21875 46.484375 68.546875 \nQ 53.21875 62.890625 53.21875 53.421875 \nQ 53.21875 48.921875 51.53125 44.890625 \nQ 49.859375 40.875 45.40625 35.40625 \nQ 44.1875 33.984375 37.640625 27.21875 \nQ 31.109375 20.453125 19.1875 8.296875 \nz\n\" id=\"DejaVuSans-50\"/>\n     </defs>\n     <use xlink:href=\"#DejaVuSans-48\"/>\n     <use x=\"63.623047\" xlink:href=\"#DejaVuSans-46\"/>\n     <use x=\"95.410156\" xlink:href=\"#DejaVuSans-57\"/>\n     <use x=\"159.033203\" xlink:href=\"#DejaVuSans-50\"/>\n    </g>\n   </g>\n   <g id=\"text_11\">\n    <!-- LogReg Confusion Matrix (N=83) -->\n    <g transform=\"translate(160.34 40.08)scale(0.12 -0.12)\">\n     <defs>\n      <path d=\"M 9.8125 72.90625 \nL 19.671875 72.90625 \nL 19.671875 8.296875 \nL 55.171875 8.296875 \nL 55.171875 0 \nL 9.8125 0 \nz\n\" id=\"DejaVuSans-76\"/>\n      <path d=\"M 45.40625 27.984375 \nQ 45.40625 37.75 41.375 43.109375 \nQ 37.359375 48.484375 30.078125 48.484375 \nQ 22.859375 48.484375 18.828125 43.109375 \nQ 14.796875 37.75 14.796875 27.984375 \nQ 14.796875 18.265625 18.828125 12.890625 \nQ 22.859375 7.515625 30.078125 7.515625 \nQ 37.359375 7.515625 41.375 12.890625 \nQ 45.40625 18.265625 45.40625 27.984375 \nz\nM 54.390625 6.78125 \nQ 54.390625 -7.171875 48.1875 -13.984375 \nQ 42 -20.796875 29.203125 -20.796875 \nQ 24.46875 -20.796875 20.265625 -20.09375 \nQ 16.0625 -19.390625 12.109375 -17.921875 \nL 12.109375 -9.1875 \nQ 16.0625 -11.328125 19.921875 -12.34375 \nQ 23.78125 -13.375 27.78125 -13.375 \nQ 36.625 -13.375 41.015625 -8.765625 \nQ 45.40625 -4.15625 45.40625 5.171875 \nL 45.40625 9.625 \nQ 42.625 4.78125 38.28125 2.390625 \nQ 33.9375 0 27.875 0 \nQ 17.828125 0 11.671875 7.65625 \nQ 5.515625 15.328125 5.515625 27.984375 \nQ 5.515625 40.671875 11.671875 48.328125 \nQ 17.828125 56 27.875 56 \nQ 33.9375 56 38.28125 53.609375 \nQ 42.625 51.21875 45.40625 46.390625 \nL 45.40625 54.6875 \nL 54.390625 54.6875 \nz\n\" id=\"DejaVuSans-103\"/>\n      <path d=\"M 44.390625 34.1875 \nQ 47.5625 33.109375 50.5625 29.59375 \nQ 53.5625 26.078125 56.59375 19.921875 \nL 66.609375 0 \nL 56 0 \nL 46.6875 18.703125 \nQ 43.0625 26.03125 39.671875 28.421875 \nQ 36.28125 30.8125 30.421875 30.8125 \nL 19.671875 30.8125 \nL 19.671875 0 \nL 9.8125 0 \nL 9.8125 72.90625 \nL 32.078125 72.90625 \nQ 44.578125 72.90625 50.734375 67.671875 \nQ 56.890625 62.453125 56.890625 51.90625 \nQ 56.890625 45.015625 53.6875 40.46875 \nQ 50.484375 35.9375 44.390625 34.1875 \nz\nM 19.671875 64.796875 \nL 19.671875 38.921875 \nL 32.078125 38.921875 \nQ 39.203125 38.921875 42.84375 42.21875 \nQ 46.484375 45.515625 46.484375 51.90625 \nQ 46.484375 58.296875 42.84375 61.546875 \nQ 39.203125 64.796875 32.078125 64.796875 \nz\n\" id=\"DejaVuSans-82\"/>\n      <path d=\"M 64.40625 67.28125 \nL 64.40625 56.890625 \nQ 59.421875 61.53125 53.78125 63.8125 \nQ 48.140625 66.109375 41.796875 66.109375 \nQ 29.296875 66.109375 22.65625 58.46875 \nQ 16.015625 50.828125 16.015625 36.375 \nQ 16.015625 21.96875 22.65625 14.328125 \nQ 29.296875 6.6875 41.796875 6.6875 \nQ 48.140625 6.6875 53.78125 8.984375 \nQ 59.421875 11.28125 64.40625 15.921875 \nL 64.40625 5.609375 \nQ 59.234375 2.09375 53.4375 0.328125 \nQ 47.65625 -1.421875 41.21875 -1.421875 \nQ 24.65625 -1.421875 15.125 8.703125 \nQ 5.609375 18.84375 5.609375 36.375 \nQ 5.609375 53.953125 15.125 64.078125 \nQ 24.65625 74.21875 41.21875 74.21875 \nQ 47.75 74.21875 53.53125 72.484375 \nQ 59.328125 70.75 64.40625 67.28125 \nz\n\" id=\"DejaVuSans-67\"/>\n      <path d=\"M 9.8125 72.90625 \nL 24.515625 72.90625 \nL 43.109375 23.296875 \nL 61.8125 72.90625 \nL 76.515625 72.90625 \nL 76.515625 0 \nL 66.890625 0 \nL 66.890625 64.015625 \nL 48.09375 14.015625 \nL 38.1875 14.015625 \nL 19.390625 64.015625 \nL 19.390625 0 \nL 9.8125 0 \nz\n\" id=\"DejaVuSans-77\"/>\n      <path d=\"M 54.890625 54.6875 \nL 35.109375 28.078125 \nL 55.90625 0 \nL 45.3125 0 \nL 29.390625 21.484375 \nL 13.484375 0 \nL 2.875 0 \nL 24.125 28.609375 \nL 4.6875 54.6875 \nL 15.28125 54.6875 \nL 29.78125 35.203125 \nL 44.28125 54.6875 \nz\n\" id=\"DejaVuSans-120\"/>\n      <path d=\"M 31 75.875 \nQ 24.46875 64.65625 21.28125 53.65625 \nQ 18.109375 42.671875 18.109375 31.390625 \nQ 18.109375 20.125 21.3125 9.0625 \nQ 24.515625 -2 31 -13.1875 \nL 23.1875 -13.1875 \nQ 15.875 -1.703125 12.234375 9.375 \nQ 8.59375 20.453125 8.59375 31.390625 \nQ 8.59375 42.28125 12.203125 53.3125 \nQ 15.828125 64.359375 23.1875 75.875 \nz\n\" id=\"DejaVuSans-40\"/>\n      <path d=\"M 9.8125 72.90625 \nL 23.09375 72.90625 \nL 55.421875 11.921875 \nL 55.421875 72.90625 \nL 64.984375 72.90625 \nL 64.984375 0 \nL 51.703125 0 \nL 19.390625 60.984375 \nL 19.390625 0 \nL 9.8125 0 \nz\n\" id=\"DejaVuSans-78\"/>\n      <path d=\"M 10.59375 45.40625 \nL 73.1875 45.40625 \nL 73.1875 37.203125 \nL 10.59375 37.203125 \nz\nM 10.59375 25.484375 \nL 73.1875 25.484375 \nL 73.1875 17.1875 \nL 10.59375 17.1875 \nz\n\" id=\"DejaVuSans-61\"/>\n      <path d=\"M 8.015625 75.875 \nL 15.828125 75.875 \nQ 23.140625 64.359375 26.78125 53.3125 \nQ 30.421875 42.28125 30.421875 31.390625 \nQ 30.421875 20.453125 26.78125 9.375 \nQ 23.140625 -1.703125 15.828125 -13.1875 \nL 8.015625 -13.1875 \nQ 14.5 -2 17.703125 9.0625 \nQ 20.90625 20.125 20.90625 31.390625 \nQ 20.90625 42.671875 17.703125 53.65625 \nQ 14.5 64.65625 8.015625 75.875 \nz\n\" id=\"DejaVuSans-41\"/>\n     </defs>\n     <use xlink:href=\"#DejaVuSans-76\"/>\n     <use x=\"53.962891\" xlink:href=\"#DejaVuSans-111\"/>\n     <use x=\"115.144531\" xlink:href=\"#DejaVuSans-103\"/>\n     <use x=\"178.621094\" xlink:href=\"#DejaVuSans-82\"/>\n     <use x=\"243.603516\" xlink:href=\"#DejaVuSans-101\"/>\n     <use x=\"305.126953\" xlink:href=\"#DejaVuSans-103\"/>\n     <use x=\"368.603516\" xlink:href=\"#DejaVuSans-32\"/>\n     <use x=\"400.390625\" xlink:href=\"#DejaVuSans-67\"/>\n     <use x=\"470.214844\" xlink:href=\"#DejaVuSans-111\"/>\n     <use x=\"531.396484\" xlink:href=\"#DejaVuSans-110\"/>\n     <use x=\"594.775391\" xlink:href=\"#DejaVuSans-102\"/>\n     <use x=\"629.980469\" xlink:href=\"#DejaVuSans-117\"/>\n     <use x=\"693.359375\" xlink:href=\"#DejaVuSans-115\"/>\n     <use x=\"745.458984\" xlink:href=\"#DejaVuSans-105\"/>\n     <use x=\"773.242188\" xlink:href=\"#DejaVuSans-111\"/>\n     <use x=\"834.423828\" xlink:href=\"#DejaVuSans-110\"/>\n     <use x=\"897.802734\" xlink:href=\"#DejaVuSans-32\"/>\n     <use x=\"929.589844\" xlink:href=\"#DejaVuSans-77\"/>\n     <use x=\"1015.869141\" xlink:href=\"#DejaVuSans-97\"/>\n     <use x=\"1077.148438\" xlink:href=\"#DejaVuSans-116\"/>\n     <use x=\"1116.357422\" xlink:href=\"#DejaVuSans-114\"/>\n     <use x=\"1157.470703\" xlink:href=\"#DejaVuSans-105\"/>\n     <use x=\"1185.253906\" xlink:href=\"#DejaVuSans-120\"/>\n     <use x=\"1244.433594\" xlink:href=\"#DejaVuSans-32\"/>\n     <use x=\"1276.220703\" xlink:href=\"#DejaVuSans-40\"/>\n     <use x=\"1315.234375\" xlink:href=\"#DejaVuSans-78\"/>\n     <use x=\"1390.039062\" xlink:href=\"#DejaVuSans-61\"/>\n     <use x=\"1473.828125\" xlink:href=\"#DejaVuSans-56\"/>\n     <use x=\"1537.451172\" xlink:href=\"#DejaVuSans-51\"/>\n     <use x=\"1601.074219\" xlink:href=\"#DejaVuSans-41\"/>\n    </g>\n   </g>\n  </g>\n  <g id=\"axes_2\">\n   <g id=\"patch_7\">\n    <path clip-path=\"url(#pf4cd06b955)\" d=\"M 459.6275 442.08 \nL 459.6275 440.38125 \nL 459.6275 8.89875 \nL 459.6275 7.2 \nL 481.3715 7.2 \nL 481.3715 8.89875 \nL 481.3715 440.38125 \nL 481.3715 442.08 \nz\n\" style=\"fill:#ffffff;stroke:#ffffff;stroke-linejoin:miter;stroke-width:0.01;\"/>\n   </g>\n   <image height=\"435\" id=\"image745cdf6733\" transform=\"scale(1 -1)translate(0 -435)\" width=\"21\" x=\"460\" xlink:href=\"data:image/png;base64,\niVBORw0KGgoAAAANSUhEUgAAABUAAAGzCAYAAADAJVzRAAACBUlEQVR4nO2cQY7DMAwDvUX+/909FIj7ieFhQOoBhGiNJcdp8/f/vffA8fCS53x4yXOee/hUM5kGEj1PQDNVqCFFx5DiRT1Ieex7RCNrKmooGqREXSrUpIcUHBGkItX3zCgPUqKG4tlRZ0jR4bHv6VKqJs2HBynRjBpSeAwpXtSDVPmM8iBV3lCGVEB0SOGxkzQfHqTKG8qQSogOKTp2km5GStRQ3gBTnh21Js3H81Z3qTVpPiJIieyLkNJk+m7v0+FBKlJ9j33PAe25mvPpGxBNIZVofbikyf6QKp+mfHie90X2u/e+aEeJ7qWq19R026PJtPzZ1INUZpqK7POi9XM/ct3hKZTmYiZzJ60plOeAtkLhojugJURXKDpSe99SKM/cby9UQLT9JJ15cVht34OUyL4IqYioxr5nmnrWNPNbSY39bqRELw5FTbp7R23u49GOlKhJd7847EZKZN+D1Jo0Luqx7+lS5fY9ma5QfKz18aJDKiLabN+DVLl9D1Iq+55MeVHPmorsv4FbBA9S21F8tO8oE1KWTDMfWNLY785UZF/0bbnuQnkyHVK4qMe+J9NyTj2ZiuwPKTzakfJkukceXNSTqcj+mjQeqQOaxf65/F/ZUplGCtVs34PUCsVH+ZqW2/cgVW7fg5TJvuZV/KYpLuoplGdNy+17kCq370Gq3H45Uj8JABwiZesrTQAAAABJRU5ErkJggg==\" y=\"-7\"/>\n   <g id=\"matplotlib.axis_3\"/>\n   <g id=\"matplotlib.axis_4\">\n    <g id=\"ytick_3\">\n     <g id=\"line2d_5\">\n      <defs>\n       <path d=\"M 0 0 \nL 3.5 0 \n\" id=\"m0965820f88\" style=\"stroke:#000000;stroke-width:0.8;\"/>\n      </defs>\n      <g>\n       <use style=\"stroke:#000000;stroke-width:0.8;\" x=\"481.3715\" xlink:href=\"#m0965820f88\" y=\"426.058105\"/>\n      </g>\n     </g>\n     <g id=\"text_12\">\n      <!-- 0.1 -->\n      <g transform=\"translate(488.3715 429.857324)scale(0.1 -0.1)\">\n       <defs>\n        <path d=\"M 12.40625 8.296875 \nL 28.515625 8.296875 \nL 28.515625 63.921875 \nL 10.984375 60.40625 \nL 10.984375 69.390625 \nL 28.421875 72.90625 \nL 38.28125 72.90625 \nL 38.28125 8.296875 \nL 54.390625 8.296875 \nL 54.390625 0 \nL 12.40625 0 \nz\n\" id=\"DejaVuSans-49\"/>\n       </defs>\n       <use xlink:href=\"#DejaVuSans-48\"/>\n       <use x=\"63.623047\" xlink:href=\"#DejaVuSans-46\"/>\n       <use x=\"95.410156\" xlink:href=\"#DejaVuSans-49\"/>\n      </g>\n     </g>\n    </g>\n    <g id=\"ytick_4\">\n     <g id=\"line2d_6\">\n      <g>\n       <use style=\"stroke:#000000;stroke-width:0.8;\" x=\"481.3715\" xlink:href=\"#m0965820f88\" y=\"375.703579\"/>\n      </g>\n     </g>\n     <g id=\"text_13\">\n      <!-- 0.2 -->\n      <g transform=\"translate(488.3715 379.502798)scale(0.1 -0.1)\">\n       <use xlink:href=\"#DejaVuSans-48\"/>\n       <use x=\"63.623047\" xlink:href=\"#DejaVuSans-46\"/>\n       <use x=\"95.410156\" xlink:href=\"#DejaVuSans-50\"/>\n      </g>\n     </g>\n    </g>\n    <g id=\"ytick_5\">\n     <g id=\"line2d_7\">\n      <g>\n       <use style=\"stroke:#000000;stroke-width:0.8;\" x=\"481.3715\" xlink:href=\"#m0965820f88\" y=\"325.349053\"/>\n      </g>\n     </g>\n     <g id=\"text_14\">\n      <!-- 0.3 -->\n      <g transform=\"translate(488.3715 329.148271)scale(0.1 -0.1)\">\n       <use xlink:href=\"#DejaVuSans-48\"/>\n       <use x=\"63.623047\" xlink:href=\"#DejaVuSans-46\"/>\n       <use x=\"95.410156\" xlink:href=\"#DejaVuSans-51\"/>\n      </g>\n     </g>\n    </g>\n    <g id=\"ytick_6\">\n     <g id=\"line2d_8\">\n      <g>\n       <use style=\"stroke:#000000;stroke-width:0.8;\" x=\"481.3715\" xlink:href=\"#m0965820f88\" y=\"274.994526\"/>\n      </g>\n     </g>\n     <g id=\"text_15\">\n      <!-- 0.4 -->\n      <g transform=\"translate(488.3715 278.793745)scale(0.1 -0.1)\">\n       <defs>\n        <path d=\"M 37.796875 64.3125 \nL 12.890625 25.390625 \nL 37.796875 25.390625 \nz\nM 35.203125 72.90625 \nL 47.609375 72.90625 \nL 47.609375 25.390625 \nL 58.015625 25.390625 \nL 58.015625 17.1875 \nL 47.609375 17.1875 \nL 47.609375 0 \nL 37.796875 0 \nL 37.796875 17.1875 \nL 4.890625 17.1875 \nL 4.890625 26.703125 \nz\n\" id=\"DejaVuSans-52\"/>\n       </defs>\n       <use xlink:href=\"#DejaVuSans-48\"/>\n       <use x=\"63.623047\" xlink:href=\"#DejaVuSans-46\"/>\n       <use x=\"95.410156\" xlink:href=\"#DejaVuSans-52\"/>\n      </g>\n     </g>\n    </g>\n    <g id=\"ytick_7\">\n     <g id=\"line2d_9\">\n      <g>\n       <use style=\"stroke:#000000;stroke-width:0.8;\" x=\"481.3715\" xlink:href=\"#m0965820f88\" y=\"224.64\"/>\n      </g>\n     </g>\n     <g id=\"text_16\">\n      <!-- 0.5 -->\n      <g transform=\"translate(488.3715 228.439219)scale(0.1 -0.1)\">\n       <defs>\n        <path d=\"M 10.796875 72.90625 \nL 49.515625 72.90625 \nL 49.515625 64.59375 \nL 19.828125 64.59375 \nL 19.828125 46.734375 \nQ 21.96875 47.46875 24.109375 47.828125 \nQ 26.265625 48.1875 28.421875 48.1875 \nQ 40.625 48.1875 47.75 41.5 \nQ 54.890625 34.8125 54.890625 23.390625 \nQ 54.890625 11.625 47.5625 5.09375 \nQ 40.234375 -1.421875 26.90625 -1.421875 \nQ 22.3125 -1.421875 17.546875 -0.640625 \nQ 12.796875 0.140625 7.71875 1.703125 \nL 7.71875 11.625 \nQ 12.109375 9.234375 16.796875 8.0625 \nQ 21.484375 6.890625 26.703125 6.890625 \nQ 35.15625 6.890625 40.078125 11.328125 \nQ 45.015625 15.765625 45.015625 23.390625 \nQ 45.015625 31 40.078125 35.4375 \nQ 35.15625 39.890625 26.703125 39.890625 \nQ 22.75 39.890625 18.8125 39.015625 \nQ 14.890625 38.140625 10.796875 36.28125 \nz\n\" id=\"DejaVuSans-53\"/>\n       </defs>\n       <use xlink:href=\"#DejaVuSans-48\"/>\n       <use x=\"63.623047\" xlink:href=\"#DejaVuSans-46\"/>\n       <use x=\"95.410156\" xlink:href=\"#DejaVuSans-53\"/>\n      </g>\n     </g>\n    </g>\n    <g id=\"ytick_8\">\n     <g id=\"line2d_10\">\n      <g>\n       <use style=\"stroke:#000000;stroke-width:0.8;\" x=\"481.3715\" xlink:href=\"#m0965820f88\" y=\"174.285474\"/>\n      </g>\n     </g>\n     <g id=\"text_17\">\n      <!-- 0.6 -->\n      <g transform=\"translate(488.3715 178.084692)scale(0.1 -0.1)\">\n       <use xlink:href=\"#DejaVuSans-48\"/>\n       <use x=\"63.623047\" xlink:href=\"#DejaVuSans-46\"/>\n       <use x=\"95.410156\" xlink:href=\"#DejaVuSans-54\"/>\n      </g>\n     </g>\n    </g>\n    <g id=\"ytick_9\">\n     <g id=\"line2d_11\">\n      <g>\n       <use style=\"stroke:#000000;stroke-width:0.8;\" x=\"481.3715\" xlink:href=\"#m0965820f88\" y=\"123.930947\"/>\n      </g>\n     </g>\n     <g id=\"text_18\">\n      <!-- 0.7 -->\n      <g transform=\"translate(488.3715 127.730166)scale(0.1 -0.1)\">\n       <use xlink:href=\"#DejaVuSans-48\"/>\n       <use x=\"63.623047\" xlink:href=\"#DejaVuSans-46\"/>\n       <use x=\"95.410156\" xlink:href=\"#DejaVuSans-55\"/>\n      </g>\n     </g>\n    </g>\n    <g id=\"ytick_10\">\n     <g id=\"line2d_12\">\n      <g>\n       <use style=\"stroke:#000000;stroke-width:0.8;\" x=\"481.3715\" xlink:href=\"#m0965820f88\" y=\"73.576421\"/>\n      </g>\n     </g>\n     <g id=\"text_19\">\n      <!-- 0.8 -->\n      <g transform=\"translate(488.3715 77.37564)scale(0.1 -0.1)\">\n       <use xlink:href=\"#DejaVuSans-48\"/>\n       <use x=\"63.623047\" xlink:href=\"#DejaVuSans-46\"/>\n       <use x=\"95.410156\" xlink:href=\"#DejaVuSans-56\"/>\n      </g>\n     </g>\n    </g>\n    <g id=\"ytick_11\">\n     <g id=\"line2d_13\">\n      <g>\n       <use style=\"stroke:#000000;stroke-width:0.8;\" x=\"481.3715\" xlink:href=\"#m0965820f88\" y=\"23.221895\"/>\n      </g>\n     </g>\n     <g id=\"text_20\">\n      <!-- 0.9 -->\n      <g transform=\"translate(488.3715 27.021113)scale(0.1 -0.1)\">\n       <use xlink:href=\"#DejaVuSans-48\"/>\n       <use x=\"63.623047\" xlink:href=\"#DejaVuSans-46\"/>\n       <use x=\"95.410156\" xlink:href=\"#DejaVuSans-57\"/>\n      </g>\n     </g>\n    </g>\n   </g>\n   <g id=\"patch_8\">\n    <path d=\"M 459.6275 442.08 \nL 459.6275 440.38125 \nL 459.6275 8.89875 \nL 459.6275 7.2 \nL 481.3715 7.2 \nL 481.3715 8.89875 \nL 481.3715 440.38125 \nL 481.3715 442.08 \nz\n\" style=\"fill:none;stroke:#000000;stroke-linejoin:miter;stroke-width:0.8;\"/>\n   </g>\n  </g>\n </g>\n <defs>\n  <clipPath id=\"p436be9829f\">\n   <rect height=\"357.12\" width=\"357.12\" x=\"80.1875\" y=\"46.08\"/>\n  </clipPath>\n  <clipPath id=\"pf4cd06b955\">\n   <rect height=\"434.88\" width=\"21.744\" x=\"459.6275\" y=\"7.2\"/>\n  </clipPath>\n </defs>\n</svg>\n",
      "image/png": "[encoded data removed]"
     },
     "metadata": {
      "needs_background": "light"
     }
    }
   ],
   "source": [
    "import matplotlib.pyplot as plt\n",
    "%matplotlib inline\n",
    "\n",
    "fig, ax = plt.subplots(figsize=(8,8))\n",
    "plot_confusion_matrix(log_reg, X_test, y_test, \n",
    "                      normalize='true', cmap='Blues', \n",
    "                      display_labels=['danawhite', 'JeffBezos'], ax=ax)\n",
    "plt.title(f'LogReg Confusion Matrix (N={X_test.shape[0]})');"
   ]
  },
  {
   "cell_type": "code",
   "execution_count": 26,
   "metadata": {},
   "outputs": [],
   "source": [
    "import spacy\n",
    "\n",
    "# Load SpaCy pre-trained model\n",
    "nlp = spacy.load('en_core_web_md', disable=['tagger', 'parser'])\n",
    "\n",
    "def vectorize_tweet(nlp, tweet_text):\n",
    "    '''This function returns the SpaCy embeddings for an input text'''\n",
    "    return list(nlp(tweet_text).vector)"
   ]
  },
  {
   "cell_type": "code",
   "execution_count": 27,
   "metadata": {},
   "outputs": [
    {
     "output_type": "execute_result",
     "data": {
      "text/plain": [
       "[-0.31268772, 0.3943375, -0.049049992, -0.22459224, 0.18336526]"
      ]
     },
     "metadata": {},
     "execution_count": 27
    }
   ],
   "source": [
    "new_embedding = vectorize_tweet(nlp, \"India, hey.\")\n",
    "new_embedding[0:5]"
   ]
  },
  {
   "cell_type": "code",
   "execution_count": 28,
   "metadata": {},
   "outputs": [
    {
     "output_type": "execute_result",
     "data": {
      "text/plain": [
       "array([0.])"
      ]
     },
     "metadata": {},
     "execution_count": 28
    }
   ],
   "source": [
    "log_reg.predict([new_embedding])"
   ]
  },
  {
   "cell_type": "code",
   "execution_count": 29,
   "metadata": {},
   "outputs": [],
   "source": [
    "pickle.dump(log_reg, open(\"../models/log_reg.pkl\", \"wb\"))"
   ]
  },
  {
   "cell_type": "code",
   "execution_count": 30,
   "metadata": {},
   "outputs": [
    {
     "output_type": "execute_result",
     "data": {
      "text/plain": [
       "array([0.])"
      ]
     },
     "metadata": {},
     "execution_count": 30
    }
   ],
   "source": [
    "unpickled_lr = pickle.load(open(\"../models/log_reg.pkl\", \"rb\"))\n",
    "unpickled_lr.predict([new_embedding])"
   ]
  },
  {
   "cell_type": "code",
   "execution_count": null,
   "metadata": {},
   "outputs": [],
   "source": []
  }
 ],
 "metadata": {
  "colab": {
   "collapsed_sections": [],
   "name": "DSPT6_APIs_Demo.ipynb",
   "provenance": []
  },
  "kernelspec": {
   "name": "Python 3.8.5 64-bit ('TwitOff': pipenv)",
   "display_name": "Python 3.8.5 64-bit ('TwitOff': pipenv)",
   "metadata": {
    "interpreter": {
     "hash": "293b102d94dcb151fbc7de06c09697a4ca9de246a418d16ef0ab6be2e444da4c"
    }
   }
  },
  "language_info": {
   "codemirror_mode": {
    "name": "ipython",
    "version": 3
   },
   "file_extension": ".py",
   "mimetype": "text/x-python",
   "name": "python",
   "nbconvert_exporter": "python",
   "pygments_lexer": "ipython3",
   "version": "3.8.5-final"
  }
 },
 "nbformat": 4,
 "nbformat_minor": 4
}