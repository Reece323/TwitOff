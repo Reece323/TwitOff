{
 "cells": [
  {
   "cell_type": "markdown",
   "metadata": {
    "id": "SUJvQxUy-bLe",
    "toc": true
   },
   "source": [
    "<h1>Table of Contents<span class=\"tocSkip\"></span></h1>\n",
    "<div class=\"toc\"><ul class=\"toc-item\"><li><span><a href=\"#DSPT6---Unit-3-Module-2---Consuming-Data-from-an-API\" data-toc-modified-id=\"DSPT6---Unit-3-Module-2---Consuming-Data-from-an-API-1\"><span class=\"toc-item-num\">1&nbsp;&nbsp;</span>DSPT6 - Unit 3 Module 2 - Consuming Data from an API</a></span></li><li><span><a href=\"#SpaCy-Embeddings\" data-toc-modified-id=\"SpaCy-Embeddings-2\"><span class=\"toc-item-num\">2&nbsp;&nbsp;</span>SpaCy Embeddings</a></span></li><li><span><a href=\"#Bringing-it-all-together\" data-toc-modified-id=\"Bringing-it-all-together-3\"><span class=\"toc-item-num\">3&nbsp;&nbsp;</span>Bringing it all together</a></span></li></ul></div>"
   ]
  },
  {
   "cell_type": "code",
   "execution_count": null,
   "metadata": {
    "id": "SGPLRW-t1ECX"
   },
   "outputs": [],
   "source": [
    "### DSPT6 - Unit 3 Module 2 - Consuming Data from an API\n",
    "\n",
    "'''The purpose of this notebook is to demonstrate:\n",
    "- Connect to the Twitter API (and twitter_scraper) to query for tweets and user information by various parameters\n",
    "- Convert tweet text using SpaCy into numerical embeddings that can be use in a predictive model'''"
   ]
  },
  {
   "cell_type": "code",
   "execution_count": null,
   "metadata": {
    "id": "vS_A9hjG1HGD"
   },
   "outputs": [],
   "source": [
    "import tweepy"
   ]
  },
  {
   "cell_type": "code",
   "execution_count": null,
   "metadata": {
    "id": "ntkRF7mp8zqp"
   },
   "outputs": [],
   "source": [
    "TWITTER_CONSUMER_API_KEY = 'pcoysZJR6Jr861alyjrVsllGZ'\n",
    "TWITTER_CONSUMER_API_SECRET = 'Mv1ugepKLjPLBcTFMYuLkGfbDQcqWq6h05JavyMHka0SpKjngB'\n",
    "TWITTER_ACCESS_TOKEN = '1306740878229331968-QtWPMuBomcuQfDixPTYmASWmdroAmb'\n",
    "TWITTER_ACCESS_TOKEN_SECRET = 'XqtFK8hcfE55VimX9pQ94OyjXciDofd7GxOBVjXb0646N'"
   ]
  },
  {
   "cell_type": "code",
   "execution_count": null,
   "metadata": {
    "id": "6F65yM5G1gP1"
   },
   "outputs": [],
   "source": [
    "TWITTER_AUTH = tweepy.OAuthHandler(TWITTER_CONSUMER_API_KEY, TWITTER_CONSUMER_API_SECRET)\n",
    "TWITTER_AUTH.set_access_token(TWITTER_ACCESS_TOKEN, TWITTER_ACCESS_TOKEN_SECRET)\n",
    "TWITTER = tweepy.API(TWITTER_AUTH)"
   ]
  },
  {
   "cell_type": "code",
   "execution_count": null,
   "metadata": {
    "id": "-1xLOVOm-bLs",
    "outputId": "167649ac-902c-43ce-ead2-a54655da7dc1"
   },
   "outputs": [],
   "source": [
    "dir(TWITTER)"
   ]
  },
  {
   "cell_type": "code",
   "execution_count": null,
   "metadata": {
    "id": "iVliDFJz-bLv",
    "outputId": "fd18716d-9c9e-4a74-9270-9d8e34c7c6b5"
   },
   "outputs": [],
   "source": [
    "twitter_user = TWITTER.get_user('elonmusk')\n",
    "twitter_user"
   ]
  },
  {
   "cell_type": "code",
   "execution_count": null,
   "metadata": {
    "id": "dnZCdnZp-bLy",
    "outputId": "6c7f58f7-71ce-4f26-9e05-0600be6e9b5a"
   },
   "outputs": [],
   "source": [
    "twitter_user.id"
   ]
  },
  {
   "cell_type": "code",
   "execution_count": null,
   "metadata": {
    "id": "f1CUYgGb-bL0",
    "outputId": "8dff6641-8d12-45cd-c695-e6bba89bc0a8"
   },
   "outputs": [],
   "source": [
    "elon_tweets = twitter_user.timeline()\n",
    "elon_tweets"
   ]
  },
  {
   "cell_type": "code",
   "execution_count": null,
   "metadata": {
    "id": "84Ii40UI-bL3",
    "outputId": "a98f5cb0-51c2-480b-801a-5ca4162f960d"
   },
   "outputs": [],
   "source": [
    "elon_tweets[0].text"
   ]
  },
  {
   "cell_type": "code",
   "execution_count": null,
   "metadata": {
    "id": "E2ayOQ1r-bL9",
    "outputId": "64a5f793-c616-4eec-c131-4d3469d52dba"
   },
   "outputs": [],
   "source": [
    "elon_tweets = twitter_user.timeline(count=200,\n",
    "                                    exclude_replies=True,\n",
    "                                    include_rts=False,\n",
    "                                    max_id='1303802636827799555',\n",
    "                                    tweet_mode='extended')\n",
    "len(elon_tweets)"
   ]
  },
  {
   "cell_type": "code",
   "execution_count": null,
   "metadata": {
    "id": "W_i30bk3-bL6",
    "outputId": "98a91dac-51af-4c18-dd38-08733907dedd"
   },
   "outputs": [],
   "source": [
    "len(elon_tweets)"
   ]
  },
  {
   "cell_type": "code",
   "execution_count": null,
   "metadata": {
    "id": "CmTvGYUI-bL_",
    "outputId": "89411d87-f6d8-4e5f-898b-2daff304fb88"
   },
   "outputs": [],
   "source": [
    "elon_tweets[11].full_text"
   ]
  },
  {
   "cell_type": "code",
   "execution_count": null,
   "metadata": {},
   "outputs": [],
   "source": [
    "elon_tweets[19].id"
   ]
  },
  {
   "cell_type": "markdown",
   "metadata": {
    "id": "0gHlc-v9-bMB"
   },
   "source": [
    "### SpaCy Embeddings"
   ]
  },
  {
   "cell_type": "code",
   "execution_count": null,
   "metadata": {
    "id": "jvlBp_t9-bMC"
   },
   "outputs": [],
   "source": [
    "import spacy"
   ]
  },
  {
   "cell_type": "code",
   "execution_count": null,
   "metadata": {
    "id": "KLqmbt_X-bME"
   },
   "outputs": [],
   "source": [
    "nlp = spacy.load('en_core_web_md', disable=['tagger', 'parser'])"
   ]
  },
  {
   "cell_type": "code",
   "execution_count": null,
   "metadata": {
    "id": "vE3zwMbA-bMG",
    "outputId": "a8dc24a9-5703-4b1d-b37b-cc7741259a3e",
    "tags": []
   },
   "outputs": [],
   "source": [
    "tokens = nlp(\"dog cat banana daslkfjsalkjf\")\n",
    "\n",
    "for token in tokens:\n",
    "    print(token.text, token.has_vector, token.is_oov)"
   ]
  },
  {
   "cell_type": "code",
   "execution_count": null,
   "metadata": {
    "id": "9e350dkA-bMJ",
    "outputId": "1fd62a87-319d-47e8-eb1c-c5e671a3f1b7"
   },
   "outputs": [],
   "source": [
    "dog = nlp('dog')\n",
    "dog.vector"
   ]
  },
  {
   "cell_type": "code",
   "execution_count": null,
   "metadata": {
    "id": "P7-mKaN7-bML",
    "outputId": "893ba0e9-2b9b-4d39-aef6-8222748a4d00"
   },
   "outputs": [],
   "source": [
    "tweet_embedding = nlp(elon_tweets[0].full_text)\n",
    "tweet_embedding.vector"
   ]
  },
  {
   "cell_type": "markdown",
   "metadata": {
    "id": "12BoRZtN-bMN"
   },
   "source": [
    "### Bringing it all together"
   ]
  },
  {
   "cell_type": "code",
   "execution_count": null,
   "metadata": {
    "id": "vnv_U43H-bMO"
   },
   "outputs": [],
   "source": [
    "def vectorize_tweet(nlp, tweet_text):\n",
    "    return nlp(tweet_text).vector"
   ]
  },
  {
   "cell_type": "code",
   "execution_count": null,
   "metadata": {
    "id": "Bq4R52pB-bMQ"
   },
   "outputs": [],
   "source": [
    "def add_or_update_user(username, nlp):\n",
    "    try:\n",
    "        twitter_user = TWITTER.get_user(username)\n",
    "\n",
    "        tweets = twitter_user.timeline(count=200,\n",
    "                                    exclude_replies=True,\n",
    "                                    include_rts=False,\n",
    "                                    tweet_mode='extended')\n",
    "\n",
    "        embeddings = vectorize_tweet(nlp, tweets[0].full_text)\n",
    "    \n",
    "    except Exception as e:\n",
    "        print('Error processing {}: {}'.format(username, e))\n",
    "\n",
    "    return tweets, embeddings"
   ]
  },
  {
   "cell_type": "code",
   "execution_count": null,
   "metadata": {
    "id": "t_A6cSbd-bMS"
   },
   "outputs": [],
   "source": []
  }
 ],
 "metadata": {
  "colab": {
   "collapsed_sections": [],
   "name": "DSPT6_APIs_Demo.ipynb",
   "provenance": []
  },
  "kernelspec": {
   "name": "Python 3.8.5 64-bit ('TwitOff': pipenv)",
   "display_name": "Python 3.8.5 64-bit ('TwitOff': pipenv)",
   "metadata": {
    "interpreter": {
     "hash": "293b102d94dcb151fbc7de06c09697a4ca9de246a418d16ef0ab6be2e444da4c"
    }
   }
  },
  "language_info": {
   "codemirror_mode": {
    "name": "ipython",
    "version": 3
   },
   "file_extension": ".py",
   "mimetype": "text/x-python",
   "name": "python",
   "nbconvert_exporter": "python",
   "pygments_lexer": "ipython3",
   "version": "3.8.5-final"
  },
  "toc": {
   "base_numbering": 1,
   "nav_menu": {},
   "number_sections": true,
   "sideBar": true,
   "skip_h1_title": false,
   "title_cell": "Table of Contents",
   "title_sidebar": "Contents",
   "toc_cell": true,
   "toc_position": {},
   "toc_section_display": true,
   "toc_window_display": false
  }
 },
 "nbformat": 4,
 "nbformat_minor": 1
}